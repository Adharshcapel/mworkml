{
 "cells": [
  {
   "cell_type": "code",
   "execution_count": 1,
   "id": "49f14c7f",
   "metadata": {},
   "outputs": [],
   "source": [
    "#import linear algebra and data manipulation libraries\n",
    "import numpy as np\n",
    "import pandas as pd"
   ]
  },
  {
   "cell_type": "code",
   "execution_count": 2,
   "id": "adac7076",
   "metadata": {},
   "outputs": [],
   "source": [
    "#import standard visualization\n",
    "import matplotlib.pyplot as plt\n",
    "import seaborn as sns"
   ]
  },
  {
   "cell_type": "code",
   "execution_count": 3,
   "id": "ca20580a",
   "metadata": {},
   "outputs": [],
   "source": [
    "df = pd.read_csv('C:/Users/adhar/Downloads/IBM_A.csv')"
   ]
  },
  {
   "cell_type": "code",
   "execution_count": 4,
   "id": "ab011295",
   "metadata": {},
   "outputs": [
    {
     "data": {
      "text/html": [
       "<div>\n",
       "<style scoped>\n",
       "    .dataframe tbody tr th:only-of-type {\n",
       "        vertical-align: middle;\n",
       "    }\n",
       "\n",
       "    .dataframe tbody tr th {\n",
       "        vertical-align: top;\n",
       "    }\n",
       "\n",
       "    .dataframe thead th {\n",
       "        text-align: right;\n",
       "    }\n",
       "</style>\n",
       "<table border=\"1\" class=\"dataframe\">\n",
       "  <thead>\n",
       "    <tr style=\"text-align: right;\">\n",
       "      <th></th>\n",
       "      <th>Age</th>\n",
       "      <th>Attrition</th>\n",
       "      <th>BusinessTravel</th>\n",
       "      <th>DailyRate</th>\n",
       "      <th>Department</th>\n",
       "      <th>DistanceFromHome</th>\n",
       "      <th>Education</th>\n",
       "      <th>EducationField</th>\n",
       "      <th>EmployeeCount</th>\n",
       "      <th>EmployeeNumber</th>\n",
       "      <th>...</th>\n",
       "      <th>RelationshipSatisfaction</th>\n",
       "      <th>StandardHours</th>\n",
       "      <th>StockOptionLevel</th>\n",
       "      <th>TotalWorkingYears</th>\n",
       "      <th>TrainingTimesLastYear</th>\n",
       "      <th>WorkLifeBalance</th>\n",
       "      <th>YearsAtCompany</th>\n",
       "      <th>YearsInCurrentRole</th>\n",
       "      <th>YearsSinceLastPromotion</th>\n",
       "      <th>YearsWithCurrManager</th>\n",
       "    </tr>\n",
       "  </thead>\n",
       "  <tbody>\n",
       "    <tr>\n",
       "      <th>0</th>\n",
       "      <td>41</td>\n",
       "      <td>Yes</td>\n",
       "      <td>Travel_Rarely</td>\n",
       "      <td>1102</td>\n",
       "      <td>Sales</td>\n",
       "      <td>1</td>\n",
       "      <td>2</td>\n",
       "      <td>Life Sciences</td>\n",
       "      <td>1</td>\n",
       "      <td>1</td>\n",
       "      <td>...</td>\n",
       "      <td>1</td>\n",
       "      <td>80</td>\n",
       "      <td>0</td>\n",
       "      <td>8</td>\n",
       "      <td>0</td>\n",
       "      <td>1</td>\n",
       "      <td>6</td>\n",
       "      <td>4</td>\n",
       "      <td>0</td>\n",
       "      <td>5</td>\n",
       "    </tr>\n",
       "    <tr>\n",
       "      <th>1</th>\n",
       "      <td>49</td>\n",
       "      <td>No</td>\n",
       "      <td>Travel_Frequently</td>\n",
       "      <td>279</td>\n",
       "      <td>Research &amp; Development</td>\n",
       "      <td>8</td>\n",
       "      <td>1</td>\n",
       "      <td>Life Sciences</td>\n",
       "      <td>1</td>\n",
       "      <td>2</td>\n",
       "      <td>...</td>\n",
       "      <td>4</td>\n",
       "      <td>80</td>\n",
       "      <td>1</td>\n",
       "      <td>10</td>\n",
       "      <td>3</td>\n",
       "      <td>3</td>\n",
       "      <td>10</td>\n",
       "      <td>7</td>\n",
       "      <td>1</td>\n",
       "      <td>7</td>\n",
       "    </tr>\n",
       "    <tr>\n",
       "      <th>2</th>\n",
       "      <td>37</td>\n",
       "      <td>Yes</td>\n",
       "      <td>Travel_Rarely</td>\n",
       "      <td>1373</td>\n",
       "      <td>Research &amp; Development</td>\n",
       "      <td>2</td>\n",
       "      <td>2</td>\n",
       "      <td>Other</td>\n",
       "      <td>1</td>\n",
       "      <td>4</td>\n",
       "      <td>...</td>\n",
       "      <td>2</td>\n",
       "      <td>80</td>\n",
       "      <td>0</td>\n",
       "      <td>7</td>\n",
       "      <td>3</td>\n",
       "      <td>3</td>\n",
       "      <td>0</td>\n",
       "      <td>0</td>\n",
       "      <td>0</td>\n",
       "      <td>0</td>\n",
       "    </tr>\n",
       "    <tr>\n",
       "      <th>3</th>\n",
       "      <td>33</td>\n",
       "      <td>No</td>\n",
       "      <td>Travel_Frequently</td>\n",
       "      <td>1392</td>\n",
       "      <td>Research &amp; Development</td>\n",
       "      <td>3</td>\n",
       "      <td>4</td>\n",
       "      <td>Life Sciences</td>\n",
       "      <td>1</td>\n",
       "      <td>5</td>\n",
       "      <td>...</td>\n",
       "      <td>3</td>\n",
       "      <td>80</td>\n",
       "      <td>0</td>\n",
       "      <td>8</td>\n",
       "      <td>3</td>\n",
       "      <td>3</td>\n",
       "      <td>8</td>\n",
       "      <td>7</td>\n",
       "      <td>3</td>\n",
       "      <td>0</td>\n",
       "    </tr>\n",
       "    <tr>\n",
       "      <th>4</th>\n",
       "      <td>27</td>\n",
       "      <td>No</td>\n",
       "      <td>Travel_Rarely</td>\n",
       "      <td>591</td>\n",
       "      <td>Research &amp; Development</td>\n",
       "      <td>2</td>\n",
       "      <td>1</td>\n",
       "      <td>Medical</td>\n",
       "      <td>1</td>\n",
       "      <td>7</td>\n",
       "      <td>...</td>\n",
       "      <td>4</td>\n",
       "      <td>80</td>\n",
       "      <td>1</td>\n",
       "      <td>6</td>\n",
       "      <td>3</td>\n",
       "      <td>3</td>\n",
       "      <td>2</td>\n",
       "      <td>2</td>\n",
       "      <td>2</td>\n",
       "      <td>2</td>\n",
       "    </tr>\n",
       "  </tbody>\n",
       "</table>\n",
       "<p>5 rows × 35 columns</p>\n",
       "</div>"
      ],
      "text/plain": [
       "   Age Attrition     BusinessTravel  DailyRate              Department  \\\n",
       "0   41       Yes      Travel_Rarely       1102                   Sales   \n",
       "1   49        No  Travel_Frequently        279  Research & Development   \n",
       "2   37       Yes      Travel_Rarely       1373  Research & Development   \n",
       "3   33        No  Travel_Frequently       1392  Research & Development   \n",
       "4   27        No      Travel_Rarely        591  Research & Development   \n",
       "\n",
       "   DistanceFromHome  Education EducationField  EmployeeCount  EmployeeNumber  \\\n",
       "0                 1          2  Life Sciences              1               1   \n",
       "1                 8          1  Life Sciences              1               2   \n",
       "2                 2          2          Other              1               4   \n",
       "3                 3          4  Life Sciences              1               5   \n",
       "4                 2          1        Medical              1               7   \n",
       "\n",
       "   ...  RelationshipSatisfaction StandardHours  StockOptionLevel  \\\n",
       "0  ...                         1            80                 0   \n",
       "1  ...                         4            80                 1   \n",
       "2  ...                         2            80                 0   \n",
       "3  ...                         3            80                 0   \n",
       "4  ...                         4            80                 1   \n",
       "\n",
       "   TotalWorkingYears  TrainingTimesLastYear WorkLifeBalance  YearsAtCompany  \\\n",
       "0                  8                      0               1               6   \n",
       "1                 10                      3               3              10   \n",
       "2                  7                      3               3               0   \n",
       "3                  8                      3               3               8   \n",
       "4                  6                      3               3               2   \n",
       "\n",
       "  YearsInCurrentRole  YearsSinceLastPromotion  YearsWithCurrManager  \n",
       "0                  4                        0                     5  \n",
       "1                  7                        1                     7  \n",
       "2                  0                        0                     0  \n",
       "3                  7                        3                     0  \n",
       "4                  2                        2                     2  \n",
       "\n",
       "[5 rows x 35 columns]"
      ]
     },
     "execution_count": 4,
     "metadata": {},
     "output_type": "execute_result"
    }
   ],
   "source": [
    "df.head() # displaying first five records"
   ]
  },
  {
   "cell_type": "code",
   "execution_count": 5,
   "id": "8735c85c",
   "metadata": {},
   "outputs": [
    {
     "name": "stdout",
     "output_type": "stream",
     "text": [
      "<class 'pandas.core.frame.DataFrame'>\n",
      "RangeIndex: 1470 entries, 0 to 1469\n",
      "Data columns (total 35 columns):\n",
      " #   Column                    Non-Null Count  Dtype \n",
      "---  ------                    --------------  ----- \n",
      " 0   Age                       1470 non-null   int64 \n",
      " 1   Attrition                 1470 non-null   object\n",
      " 2   BusinessTravel            1470 non-null   object\n",
      " 3   DailyRate                 1470 non-null   int64 \n",
      " 4   Department                1470 non-null   object\n",
      " 5   DistanceFromHome          1470 non-null   int64 \n",
      " 6   Education                 1470 non-null   int64 \n",
      " 7   EducationField            1470 non-null   object\n",
      " 8   EmployeeCount             1470 non-null   int64 \n",
      " 9   EmployeeNumber            1470 non-null   int64 \n",
      " 10  EnvironmentSatisfaction   1470 non-null   int64 \n",
      " 11  Gender                    1470 non-null   object\n",
      " 12  HourlyRate                1470 non-null   int64 \n",
      " 13  JobInvolvement            1470 non-null   int64 \n",
      " 14  JobLevel                  1470 non-null   int64 \n",
      " 15  JobRole                   1470 non-null   object\n",
      " 16  JobSatisfaction           1470 non-null   int64 \n",
      " 17  MaritalStatus             1470 non-null   object\n",
      " 18  MonthlyIncome             1470 non-null   int64 \n",
      " 19  MonthlyRate               1470 non-null   int64 \n",
      " 20  NumCompaniesWorked        1470 non-null   int64 \n",
      " 21  Over18                    1470 non-null   object\n",
      " 22  OverTime                  1470 non-null   object\n",
      " 23  PercentSalaryHike         1470 non-null   int64 \n",
      " 24  PerformanceRating         1470 non-null   int64 \n",
      " 25  RelationshipSatisfaction  1470 non-null   int64 \n",
      " 26  StandardHours             1470 non-null   int64 \n",
      " 27  StockOptionLevel          1470 non-null   int64 \n",
      " 28  TotalWorkingYears         1470 non-null   int64 \n",
      " 29  TrainingTimesLastYear     1470 non-null   int64 \n",
      " 30  WorkLifeBalance           1470 non-null   int64 \n",
      " 31  YearsAtCompany            1470 non-null   int64 \n",
      " 32  YearsInCurrentRole        1470 non-null   int64 \n",
      " 33  YearsSinceLastPromotion   1470 non-null   int64 \n",
      " 34  YearsWithCurrManager      1470 non-null   int64 \n",
      "dtypes: int64(26), object(9)\n",
      "memory usage: 402.1+ KB\n"
     ]
    }
   ],
   "source": [
    "df.info()\n",
    "# checking for null values\n",
    "# no null values in dataset"
   ]
  },
  {
   "cell_type": "code",
   "execution_count": 10,
   "id": "6a572744",
   "metadata": {},
   "outputs": [],
   "source": [
    "# DEFINING A FUNCTION TO PLOT HISTOGRAMS\n",
    "def plothidt(x):\n",
    "    plt.hist(x)\n",
    "    \n",
    "    print(f\" employees distribution \\n {x.value_counts(normalize=True)*100}\")"
   ]
  },
  {
   "cell_type": "code",
   "execution_count": 6,
   "id": "c72da270",
   "metadata": {},
   "outputs": [
    {
     "name": "stdout",
     "output_type": "stream",
     "text": [
      " The attrition rate is \n",
      " No     83.877551\n",
      "Yes    16.122449\n",
      "Name: Attrition, dtype: float64\n"
     ]
    },
    {
     "data": {
      "image/png": "[encoded data removed]",
      "text/plain": [
       "<Figure size 432x288 with 1 Axes>"
      ]
     },
     "metadata": {
      "needs_background": "light"
     },
     "output_type": "display_data"
    }
   ],
   "source": [
    "plt.hist(df[\"Attrition\"])\n",
    "print(f\" The attrition rate is \\n {df.Attrition.value_counts(normalize=True)*100}\")\n",
    "# Attrition rate of employess is lesser\n"
   ]
  },
  {
   "cell_type": "code",
   "execution_count": 7,
   "id": "b8715242",
   "metadata": {},
   "outputs": [
    {
     "data": {
      "text/plain": [
       "<AxesSubplot:ylabel='Age'>"
      ]
     },
     "execution_count": 7,
     "metadata": {},
     "output_type": "execute_result"
    },
    {
     "data": {
      "image/png": "[encoded data removed]",
      "text/plain": [
       "<Figure size 432x288 with 1 Axes>"
      ]
     },
     "metadata": {
      "needs_background": "light"
     },
     "output_type": "display_data"
    }
   ],
   "source": [
    "# Distribution of age\n",
    "sns.boxplot(y='Age', data=df)\n",
    "# Median age 35\n",
    "# A significant point of employees are clustered around 40 and 30, with more employees in bracket 30-35 age grop"
   ]
  },
  {
   "cell_type": "code",
   "execution_count": 8,
   "id": "21b39add",
   "metadata": {},
   "outputs": [
    {
     "name": "stdout",
     "output_type": "stream",
     "text": [
      " The distribution of employess based on Travel \n",
      " Travel_Rarely        70.952381\n",
      "Travel_Frequently    18.843537\n",
      "Non-Travel           10.204082\n",
      "Name: BusinessTravel, dtype: float64\n"
     ]
    },
    {
     "data": {
      "image/png": "[encoded data removed]",
      "text/plain": [
       "<Figure size 432x288 with 1 Axes>"
      ]
     },
     "metadata": {
      "needs_background": "light"
     },
     "output_type": "display_data"
    }
   ],
   "source": [
    "plt.hist(df[\"BusinessTravel\"])\n",
    "print(f\" The distribution of employess based on Travel \\n {df.BusinessTravel.value_counts(normalize=True)*100}\")"
   ]
  },
  {
   "cell_type": "code",
   "execution_count": 9,
   "id": "95c6b692",
   "metadata": {},
   "outputs": [
    {
     "data": {
      "text/plain": [
       "<AxesSubplot:ylabel='DailyRate'>"
      ]
     },
     "execution_count": 9,
     "metadata": {},
     "output_type": "execute_result"
    },
    {
     "data": {
      "image/png": "[encoded data removed]",
      "text/plain": [
       "<Figure size 432x288 with 1 Axes>"
      ]
     },
     "metadata": {
      "needs_background": "light"
     },
     "output_type": "display_data"
    }
   ],
   "source": [
    "# Distribution of age\n",
    "sns.boxplot(y='DailyRate', data=df)"
   ]
  },
  {
   "cell_type": "code",
   "execution_count": 47,
   "id": "b9af9722",
   "metadata": {},
   "outputs": [
    {
     "name": "stdout",
     "output_type": "stream",
     "text": [
      " Department wise employees distribution \n",
      " Research & Development    65.374150\n",
      "Sales                     30.340136\n",
      "Human Resources            4.285714\n",
      "Name: Department, dtype: float64\n"
     ]
    },
    {
     "data": {
      "image/png": "[encoded data removed]",
      "text/plain": [
       "<Figure size 432x288 with 1 Axes>"
      ]
     },
     "metadata": {
      "needs_background": "light"
     },
     "output_type": "display_data"
    }
   ],
   "source": [
    "plt.hist(df[\"Department\"])\n",
    "print(f\" Department wise employees distribution \\n {df.Department.value_counts(normalize=True)*100}\")"
   ]
  },
  {
   "cell_type": "markdown",
   "id": "183ad39a",
   "metadata": {},
   "source": [
    "# Education\n",
    "\n",
    "1 'Below College'\n",
    "\n",
    "2 'College'\n",
    "\n",
    "3 'Bachelor'\n",
    "\n",
    "4 'Master'\n",
    "\n",
    "5 'Doctor'"
   ]
  },
  {
   "cell_type": "code",
   "execution_count": 49,
   "id": "5583be5f",
   "metadata": {},
   "outputs": [
    {
     "name": "stdout",
     "output_type": "stream",
     "text": [
      " employees distribution \n",
      " 3    38.911565\n",
      "4    27.074830\n",
      "2    19.183673\n",
      "1    11.564626\n",
      "5     3.265306\n",
      "Name: Education, dtype: float64\n"
     ]
    },
    {
     "data": {
      "image/png": "[encoded data removed]",
      "text/plain": [
       "<Figure size 432x288 with 1 Axes>"
      ]
     },
     "metadata": {
      "needs_background": "light"
     },
     "output_type": "display_data"
    }
   ],
   "source": [
    "plothidt(df[\"Education\"])"
   ]
  },
  {
   "cell_type": "code",
   "execution_count": 22,
   "id": "e6c2e0c0",
   "metadata": {},
   "outputs": [
    {
     "name": "stdout",
     "output_type": "stream",
     "text": [
      " employees distribution \n",
      " Life Sciences       41.224490\n",
      "Medical             31.564626\n",
      "Marketing           10.816327\n",
      "Technical Degree     8.979592\n",
      "Other                5.578231\n",
      "Human Resources      1.836735\n",
      "Name: EducationField, dtype: float64\n"
     ]
    },
    {
     "data": {
      "image/png": "[encoded data removed]",
      "text/plain": [
       "<Figure size 432x288 with 1 Axes>"
      ]
     },
     "metadata": {
      "needs_background": "light"
     },
     "output_type": "display_data"
    }
   ],
   "source": [
    "plothidt(df[\"EducationField\"])"
   ]
  },
  {
   "cell_type": "markdown",
   "id": "8b7f7ede",
   "metadata": {},
   "source": [
    "# EnvironmentSatisfaction\n",
    "1 'Low'\n",
    "\n",
    "2 'Medium'\n",
    "\n",
    "3 'High'\n",
    "\n",
    "4 'Very High'"
   ]
  },
  {
   "cell_type": "code",
   "execution_count": 23,
   "id": "bbc1de9d",
   "metadata": {},
   "outputs": [
    {
     "name": "stdout",
     "output_type": "stream",
     "text": [
      " employees distribution \n",
      " 3    30.816327\n",
      "4    30.340136\n",
      "2    19.523810\n",
      "1    19.319728\n",
      "Name: EnvironmentSatisfaction, dtype: float64\n"
     ]
    },
    {
     "data": {
      "image/png": "[encoded data removed]",
      "text/plain": [
       "<Figure size 432x288 with 1 Axes>"
      ]
     },
     "metadata": {
      "needs_background": "light"
     },
     "output_type": "display_data"
    }
   ],
   "source": [
    "plothidt(df[\"EnvironmentSatisfaction\"])"
   ]
  },
  {
   "cell_type": "markdown",
   "id": "f691f991",
   "metadata": {},
   "source": [
    "# JobInvolvement\n",
    "1 'Low'\n",
    "\n",
    "2 'Medium'\n",
    "\n",
    "3 'High'\n",
    "\n",
    "4 'Very High'"
   ]
  },
  {
   "cell_type": "code",
   "execution_count": 24,
   "id": "7e2e5493",
   "metadata": {
    "scrolled": true
   },
   "outputs": [
    {
     "name": "stdout",
     "output_type": "stream",
     "text": [
      " employees distribution \n",
      " 3    59.047619\n",
      "2    25.510204\n",
      "4     9.795918\n",
      "1     5.646259\n",
      "Name: JobInvolvement, dtype: float64\n"
     ]
    },
    {
     "data": {
      "image/png": "[encoded data removed]",
      "text/plain": [
       "<Figure size 432x288 with 1 Axes>"
      ]
     },
     "metadata": {
      "needs_background": "light"
     },
     "output_type": "display_data"
    }
   ],
   "source": [
    "plothidt(df[\"JobInvolvement\"])"
   ]
  },
  {
   "cell_type": "code",
   "execution_count": 25,
   "id": "92533023",
   "metadata": {},
   "outputs": [
    {
     "name": "stdout",
     "output_type": "stream",
     "text": [
      " employees distribution \n",
      " Male      60.0\n",
      "Female    40.0\n",
      "Name: Gender, dtype: float64\n"
     ]
    },
    {
     "data": {
      "image/png": "[encoded data removed]",
      "text/plain": [
       "<Figure size 432x288 with 1 Axes>"
      ]
     },
     "metadata": {
      "needs_background": "light"
     },
     "output_type": "display_data"
    }
   ],
   "source": [
    "plothidt(df[\"Gender\"])"
   ]
  },
  {
   "cell_type": "code",
   "execution_count": 26,
   "id": "f40b221a",
   "metadata": {},
   "outputs": [
    {
     "name": "stdout",
     "output_type": "stream",
     "text": [
      " employees distribution \n",
      " 1    35.442177\n",
      "0    13.401361\n",
      "3    10.816327\n",
      "2     9.931973\n",
      "4     9.455782\n",
      "7     5.034014\n",
      "6     4.761905\n",
      "5     4.285714\n",
      "9     3.537415\n",
      "8     3.333333\n",
      "Name: NumCompaniesWorked, dtype: float64\n"
     ]
    },
    {
     "data": {
      "image/png": "[encoded data removed]",
      "text/plain": [
       "<Figure size 432x288 with 1 Axes>"
      ]
     },
     "metadata": {
      "needs_background": "light"
     },
     "output_type": "display_data"
    }
   ],
   "source": [
    "plothidt(df[\"NumCompaniesWorked\"])"
   ]
  },
  {
   "cell_type": "markdown",
   "id": "d3d4b22f",
   "metadata": {},
   "source": []
  },
  {
   "cell_type": "code",
   "execution_count": 28,
   "id": "c1b2f21f",
   "metadata": {},
   "outputs": [
    {
     "name": "stdout",
     "output_type": "stream",
     "text": [
      " employees distribution \n",
      " Married     45.782313\n",
      "Single      31.972789\n",
      "Divorced    22.244898\n",
      "Name: MaritalStatus, dtype: float64\n"
     ]
    },
    {
     "data": {
      "image/png": "[encoded data removed]",
      "text/plain": [
       "<Figure size 432x288 with 1 Axes>"
      ]
     },
     "metadata": {
      "needs_background": "light"
     },
     "output_type": "display_data"
    }
   ],
   "source": [
    "plothidt(df[\"MaritalStatus\"])"
   ]
  },
  {
   "cell_type": "markdown",
   "id": "9aa174ba",
   "metadata": {},
   "source": [
    "# RelationshipSatisfaction\n",
    "1 'Low'\n",
    "\n",
    "2 'Medium'\n",
    "\n",
    "3 'High'\n",
    "\n",
    "4 'Very High'"
   ]
  },
  {
   "cell_type": "code",
   "execution_count": 30,
   "id": "a5335552",
   "metadata": {},
   "outputs": [
    {
     "name": "stdout",
     "output_type": "stream",
     "text": [
      " employees distribution \n",
      " 3    31.224490\n",
      "4    29.387755\n",
      "2    20.612245\n",
      "1    18.775510\n",
      "Name: RelationshipSatisfaction, dtype: float64\n"
     ]
    },
    {
     "data": {
      "image/png": "[encoded data removed]",
      "text/plain": [
       "<Figure size 432x288 with 1 Axes>"
      ]
     },
     "metadata": {
      "needs_background": "light"
     },
     "output_type": "display_data"
    }
   ],
   "source": [
    "plothidt(df[\"RelationshipSatisfaction\"])"
   ]
  },
  {
   "cell_type": "markdown",
   "id": "30214a28",
   "metadata": {},
   "source": [
    "# WorkLifeBalance\n",
    "1 'Bad'\n",
    "\n",
    "2 'Good'\n",
    "\n",
    "3 'Better'\n",
    "\n",
    "4 'Best'"
   ]
  },
  {
   "cell_type": "code",
   "execution_count": 31,
   "id": "82b324e7",
   "metadata": {},
   "outputs": [
    {
     "name": "stdout",
     "output_type": "stream",
     "text": [
      " employees distribution \n",
      " 3    60.748299\n",
      "2    23.401361\n",
      "4    10.408163\n",
      "1     5.442177\n",
      "Name: WorkLifeBalance, dtype: float64\n"
     ]
    },
    {
     "data": {
      "image/png": "[encoded data removed]",
      "text/plain": [
       "<Figure size 432x288 with 1 Axes>"
      ]
     },
     "metadata": {
      "needs_background": "light"
     },
     "output_type": "display_data"
    }
   ],
   "source": [
    "plothidt(df[\"WorkLifeBalance\"])"
   ]
  },
  {
   "cell_type": "markdown",
   "id": "6249362f",
   "metadata": {},
   "source": [
    "# PerformanceRating\n",
    "\n",
    "1 'Low'\n",
    "\n",
    "2 'Good'\n",
    "\n",
    "3 'Excellent'\n",
    "\n",
    "4 'Outstanding'"
   ]
  },
  {
   "cell_type": "code",
   "execution_count": 37,
   "id": "7fc35516",
   "metadata": {},
   "outputs": [
    {
     "name": "stdout",
     "output_type": "stream",
     "text": [
      " employees distribution \n",
      " 3    84.62585\n",
      "4    15.37415\n",
      "Name: PerformanceRating, dtype: float64\n"
     ]
    },
    {
     "data": {
      "image/png": "[encoded data removed]",
      "text/plain": [
       "<Figure size 432x288 with 1 Axes>"
      ]
     },
     "metadata": {
      "needs_background": "light"
     },
     "output_type": "display_data"
    }
   ],
   "source": [
    "plothidt(df[\"PerformanceRating\"])"
   ]
  },
  {
   "cell_type": "code",
   "execution_count": 17,
   "id": "faa88996",
   "metadata": {},
   "outputs": [],
   "source": [
    "# defining function to plot boxplot\n",
    "def pltbox(x):\n",
    "    sns.boxplot(y=x, data=df)"
   ]
  },
  {
   "cell_type": "code",
   "execution_count": 18,
   "id": "7597c94b",
   "metadata": {},
   "outputs": [
    {
     "data": {
      "image/png": "[encoded data removed]",
      "text/plain": [
       "<Figure size 432x288 with 1 Axes>"
      ]
     },
     "metadata": {
      "needs_background": "light"
     },
     "output_type": "display_data"
    }
   ],
   "source": [
    "pltbox(df['TotalWorkingYears'])"
   ]
  },
  {
   "cell_type": "markdown",
   "id": "3111f870",
   "metadata": {},
   "source": [
    "# Feature Engineering"
   ]
  },
  {
   "cell_type": "code",
   "execution_count": 11,
   "id": "3bf05630",
   "metadata": {},
   "outputs": [
    {
     "name": "stdout",
     "output_type": "stream",
     "text": [
      "The Attrition 'YES' for Total working years > 30\n"
     ]
    },
    {
     "data": {
      "text/plain": [
       "Attrition  TotalWorkingYears\n",
       "Yes        40                   2\n",
       "           31                   1\n",
       "           33                   1\n",
       "           34                   1\n",
       "Name: TotalWorkingYears, dtype: int64"
      ]
     },
     "execution_count": 11,
     "metadata": {},
     "output_type": "execute_result"
    }
   ],
   "source": [
    "# Outlier Removal\n",
    "#Before removing checkong the number of observations with yes greater than 30\n",
    "df1=df[(df[\"Attrition\"]==\"Yes\")&(df[\"TotalWorkingYears\"]>30)]\n",
    "print(\"The Attrition 'YES' for Total working years > 30\")\n",
    "df1.groupby(\"Attrition\")[\"TotalWorkingYears\"].value_counts()"
   ]
  },
  {
   "cell_type": "code",
   "execution_count": 12,
   "id": "9f8d2ae4",
   "metadata": {},
   "outputs": [
    {
     "data": {
      "text/plain": [
       "(28.5, -7.5)"
      ]
     },
     "execution_count": 12,
     "metadata": {},
     "output_type": "execute_result"
    }
   ],
   "source": [
    "#Defining a function to impute missing values\n",
    "Q1=df.TotalWorkingYears.quantile(0.25)\n",
    "Q3=df.TotalWorkingYears.quantile(0.75)\n",
    "Q1,Q3\n",
    "IQR=Q3-Q1\n",
    "IQR\n",
    "upper_limit=Q3+1.5*IQR\n",
    "lower_limit=Q1-1.5*IQR\n",
    "upper_limit,lower_limit"
   ]
  },
  {
   "cell_type": "code",
   "execution_count": 19,
   "id": "13d101d8",
   "metadata": {},
   "outputs": [],
   "source": [
    "def limit_imputer(value):\n",
    "   \n",
    "    if value>upper_limit:\n",
    "        return upper_limit\n",
    "    if value<lower_limit:\n",
    "        return lower_limit\n",
    "    else:\n",
    "        return value"
   ]
  },
  {
   "cell_type": "code",
   "execution_count": 20,
   "id": "8843a74a",
   "metadata": {},
   "outputs": [],
   "source": [
    "df['TotalWorkingYears']=df['TotalWorkingYears'].apply(limit_imputer)"
   ]
  },
  {
   "cell_type": "code",
   "execution_count": 21,
   "id": "1fb968dc",
   "metadata": {},
   "outputs": [
    {
     "data": {
      "image/png": "[encoded data removed]",
      "text/plain": [
       "<Figure size 432x288 with 1 Axes>"
      ]
     },
     "metadata": {
      "needs_background": "light"
     },
     "output_type": "display_data"
    }
   ],
   "source": [
    "pltbox(df['TotalWorkingYears'])"
   ]
  },
  {
   "cell_type": "code",
   "execution_count": 56,
   "id": "c5745b4c",
   "metadata": {},
   "outputs": [
    {
     "data": {
      "image/png": "[encoded data removed]",
      "text/plain": [
       "<Figure size 432x288 with 1 Axes>"
      ]
     },
     "metadata": {
      "needs_background": "light"
     },
     "output_type": "display_data"
    }
   ],
   "source": [
    "pltbox(df[\"HourlyRate\"])"
   ]
  },
  {
   "cell_type": "code",
   "execution_count": null,
   "id": "f1643489",
   "metadata": {},
   "outputs": [],
   "source": [
    "# JobInvolvement            1470 non-null   int64 \n",
    "#  14  JobLevel                  1470 non-null   int64 \n",
    "#  15  JobRole                   1470 non-null   object\n",
    "#  16  JobSatisfaction           1470 non-null   int64 \n",
    "#  17  MaritalStatus             1470 non-null   object\n",
    "#  18  MonthlyIncome             1470 non-null   int64 \n",
    "#  19  MonthlyRate               1470 non-null   int64 \n",
    "#  20  NumCompaniesWorked        1470 non-null   int64 \n",
    "#  21  Over18                    1470 non-null   object\n",
    "#  22  OverTime                  1470 non-null   object\n",
    "#  23  PercentSalaryHike         1470 non-null   int64 \n",
    "#  24  PerformanceRating \n",
    "#  PerformanceRating         1470 non-null   int64 \n",
    "#  25  RelationshipSatisfaction  1470 non-null   int64 \n",
    "#  26  StandardHours             1470 non-null   int64 \n",
    "#  27  StockOptionLevel          1470 non-null   int64 \n",
    "#  28  TotalWorkingYears         1470 non-null   int64 \n",
    "#  29  TrainingTimesLastYear     1470 non-null   int64 \n",
    "#  30  WorkLifeBalance           1470 non-null   int64 \n",
    "#  31  YearsAtCompany            1470 non-null   int64 \n",
    "#  32  YearsInCurrentRole        1470 non-null   int64 \n",
    "#  33  YearsSinceLastPromotion   1470 non-null   int64 \n",
    "#  34  YearsWithCurrManage"
   ]
  },
  {
   "cell_type": "code",
   "execution_count": 57,
   "id": "cc934984",
   "metadata": {},
   "outputs": [
    {
     "data": {
      "image/png": "[encoded data removed]",
      "text/plain": [
       "<Figure size 432x288 with 1 Axes>"
      ]
     },
     "metadata": {
      "needs_background": "light"
     },
     "output_type": "display_data"
    }
   ],
   "source": [
    "pltbox(df[\"PercentSalaryHike\"])"
   ]
  },
  {
   "cell_type": "code",
   "execution_count": 58,
   "id": "8ee42707",
   "metadata": {},
   "outputs": [
    {
     "name": "stdout",
     "output_type": "stream",
     "text": [
      " employees distribution \n",
      " 0    42.925170\n",
      "1    40.544218\n",
      "2    10.748299\n",
      "3     5.782313\n",
      "Name: StockOptionLevel, dtype: float64\n"
     ]
    },
    {
     "data": {
      "image/png": "[encoded data removed]",
      "text/plain": [
       "<Figure size 432x288 with 1 Axes>"
      ]
     },
     "metadata": {
      "needs_background": "light"
     },
     "output_type": "display_data"
    }
   ],
   "source": [
    "# pltbox(df[\"StandardHours\"])\n",
    "plothidt(df[\"StockOptionLevel\"])"
   ]
  },
  {
   "cell_type": "code",
   "execution_count": 18,
   "id": "40812a55",
   "metadata": {},
   "outputs": [
    {
     "name": "stdout",
     "output_type": "stream",
     "text": [
      " employees distribution \n",
      " 2    37.210884\n",
      "3    33.401361\n",
      "4     8.367347\n",
      "5     8.095238\n",
      "1     4.829932\n",
      "6     4.421769\n",
      "0     3.673469\n",
      "Name: TrainingTimesLastYear, dtype: float64\n"
     ]
    },
    {
     "data": {
      "image/png": "[encoded data removed]",
      "text/plain": [
       "<Figure size 432x288 with 1 Axes>"
      ]
     },
     "metadata": {
      "needs_background": "light"
     },
     "output_type": "display_data"
    }
   ],
   "source": [
    "plothidt(df[\"TrainingTimesLastYear\"])\n"
   ]
  },
  {
   "cell_type": "markdown",
   "id": "9acb60f1",
   "metadata": {},
   "source": [
    "# Outlier removal(imputation of contionous features)"
   ]
  },
  {
   "cell_type": "code",
   "execution_count": 10,
   "id": "f7b25cd6",
   "metadata": {},
   "outputs": [
    {
     "data": {
      "image/png": "[encoded data removed]",
      "text/plain": [
       "<Figure size 432x288 with 1 Axes>"
      ]
     },
     "metadata": {
      "needs_background": "light"
     },
     "output_type": "display_data"
    }
   ],
   "source": [
    "pltbox(df[\"YearsAtCompany\"])"
   ]
  },
  {
   "cell_type": "code",
   "execution_count": 22,
   "id": "aeb985b8",
   "metadata": {},
   "outputs": [
    {
     "data": {
      "text/plain": [
       "(18.0, -6.0)"
      ]
     },
     "execution_count": 22,
     "metadata": {},
     "output_type": "execute_result"
    }
   ],
   "source": [
    "Q1=df.YearsAtCompany.quantile(0.25)\n",
    "Q3=df.YearsAtCompany.quantile(0.75)\n",
    "Q1,Q3\n",
    "IQR=Q3-Q1\n",
    "IQR\n",
    "upper_limit=Q3+1.5*IQR\n",
    "lower_limit=Q1-1.5*IQR\n",
    "upper_limit,lower_limit"
   ]
  },
  {
   "cell_type": "code",
   "execution_count": 23,
   "id": "b2e4d6cf",
   "metadata": {},
   "outputs": [],
   "source": [
    "df['YearsAtCompany']=df['YearsAtCompany'].apply(limit_imputer)"
   ]
  },
  {
   "cell_type": "code",
   "execution_count": 24,
   "id": "6624be01",
   "metadata": {},
   "outputs": [
    {
     "data": {
      "image/png": "[encoded data removed]",
      "text/plain": [
       "<Figure size 432x288 with 1 Axes>"
      ]
     },
     "metadata": {
      "needs_background": "light"
     },
     "output_type": "display_data"
    }
   ],
   "source": [
    "pltbox(df[\"YearsAtCompany\"])"
   ]
  },
  {
   "cell_type": "code",
   "execution_count": 25,
   "id": "92aee554",
   "metadata": {},
   "outputs": [],
   "source": [
    "Q1=df.YearsSinceLastPromotion.quantile(0.25)\n",
    "Q3=df.YearsSinceLastPromotion.quantile(0.75)\n",
    "Q1,Q3\n",
    "IQR=Q3-Q1\n",
    "IQR\n",
    "upper_limit=Q3+1.5*IQR\n",
    "lower_limit=Q1-1.5*IQR\n",
    "upper_limit,lower_limit\n",
    "df['YearsSinceLastPromotion']=df['YearsSinceLastPromotion'].apply(limit_imputer)"
   ]
  },
  {
   "cell_type": "code",
   "execution_count": 26,
   "id": "672f98ae",
   "metadata": {},
   "outputs": [
    {
     "data": {
      "image/png": "[encoded data removed]",
      "text/plain": [
       "<Figure size 432x288 with 1 Axes>"
      ]
     },
     "metadata": {
      "needs_background": "light"
     },
     "output_type": "display_data"
    }
   ],
   "source": [
    "pltbox(df[\"YearsSinceLastPromotion\"])"
   ]
  },
  {
   "cell_type": "code",
   "execution_count": 27,
   "id": "4e1a8f79",
   "metadata": {},
   "outputs": [
    {
     "data": {
      "image/png": "[encoded data removed]",
      "text/plain": [
       "<Figure size 432x288 with 1 Axes>"
      ]
     },
     "metadata": {
      "needs_background": "light"
     },
     "output_type": "display_data"
    }
   ],
   "source": [
    "pltbox(df[\"PercentSalaryHike\"])"
   ]
  },
  {
   "attachments": {
    "image.png": {
     "image/png": "[encoded data removed]"
    }
   },
   "cell_type": "markdown",
   "id": "930cc705",
   "metadata": {},
   "source": [
    "![image.png](attachment:image.png)\n",
    "\n",
    "\n",
    "\n",
    "  Encoding is done so that machine learnng model willl be able to intrepet the data\n",
    "\n"
   ]
  },
  {
   "cell_type": "code",
   "execution_count": 30,
   "id": "cc509162",
   "metadata": {},
   "outputs": [],
   "source": [
    "#Nominal encoding \n",
    "# Encoding the feature education field to numerical feature \n",
    "\n",
    "df['EducationField'].replace('Life Sciences',1,inplace=True)\n",
    "df['EducationField'].replace('Medical',2,inplace=True)\n",
    "df['EducationField'].replace('Marketing',3,inplace=True)\n",
    "df['EducationField'].replace('Other',4,inplace=True)\n",
    "df['EducationField'].replace('Technical Degree',5,inplace=True)\n",
    "df['EducationField'].replace('Human Resources', 6,inplace=True)"
   ]
  },
  {
   "cell_type": "code",
   "execution_count": 32,
   "id": "53b54dd8",
   "metadata": {},
   "outputs": [
    {
     "name": "stdout",
     "output_type": "stream",
     "text": [
      "Encoed feature distribution\n"
     ]
    },
    {
     "data": {
      "text/plain": [
       "1    606\n",
       "2    464\n",
       "3    159\n",
       "5    132\n",
       "4     82\n",
       "6     27\n",
       "Name: EducationField, dtype: int64"
      ]
     },
     "execution_count": 32,
     "metadata": {},
     "output_type": "execute_result"
    }
   ],
   "source": [
    "print(\"Encoed feature distribution\")\n",
    "df['EducationField'].value_counts()"
   ]
  },
  {
   "cell_type": "code",
   "execution_count": 33,
   "id": "e24e7126",
   "metadata": {},
   "outputs": [],
   "source": [
    "df['Department'].replace('Research & Development',1,inplace=True)\n",
    "df['Department'].replace('Sales',2,inplace=True)\n",
    "df['Department'].replace('Human Resources',3,inplace=True)"
   ]
  },
  {
   "cell_type": "code",
   "execution_count": 34,
   "id": "1a360667",
   "metadata": {},
   "outputs": [],
   "source": [
    "df['MaritalStatus'].replace('Married',1,inplace=True)\n",
    "df['MaritalStatus'].replace('Single',2,inplace=True)\n",
    "df['MaritalStatus'].replace('Divorced',3,inplace=True)"
   ]
  },
  {
   "cell_type": "code",
   "execution_count": 35,
   "id": "d4a6a3fd",
   "metadata": {},
   "outputs": [],
   "source": [
    "df['Attrition'].replace('Yes',1,inplace=True)\n",
    "df['Attrition'].replace('No',0,inplace=True)\n",
    "# df['Attrition'].replace('Divorced',3,inplace=True)"
   ]
  },
  {
   "cell_type": "code",
   "execution_count": 36,
   "id": "c5e02d04",
   "metadata": {},
   "outputs": [],
   "source": [
    "df['BusinessTravel'].replace('Travel_Rarely',1,inplace=True)\n",
    "df['BusinessTravel'].replace('Travel_Frequently',2,inplace=True)\n",
    "df['BusinessTravel'].replace('Non-Travel',3,inplace=True)\n",
    "# df['BusinessTravel'].replace('Other',4,inplace=True)\n",
    "# df[''].replace('Technical Degree',5,inplace=True)\n",
    "# df['EducationField'].replace('Human Resources', 6,inplace=True)"
   ]
  },
  {
   "cell_type": "code",
   "execution_count": 37,
   "id": "a53253d8",
   "metadata": {},
   "outputs": [],
   "source": [
    "df['Gender'].replace('Male',1,inplace=True)\n",
    "df['Gender'].replace('Female',2,inplace=True)\n",
    "# df['Gender'].replace('Male',3,inplace=True)"
   ]
  },
  {
   "cell_type": "code",
   "execution_count": 38,
   "id": "c2b58b0e",
   "metadata": {},
   "outputs": [],
   "source": [
    "df['JobRole'].replace('Sales Executive',1,inplace=True)\n",
    "df['JobRole'].replace('Research Scientist',2,inplace=True)\n",
    "df['JobRole'].replace('Laboratory Technician',3,inplace=True)\n",
    "df['JobRole'].replace('Manufacturing Director',4,inplace=True)\n",
    "df['JobRole'].replace('Healthcare Representative',5,inplace=True)\n",
    "df['JobRole'].replace('Manager', 6,inplace=True)\n",
    "df['JobRole'].replace('Sales Representative',7,inplace=True)\n",
    "df['JobRole'].replace('Research Director', 8,inplace=True)\n",
    "df['JobRole'].replace('Human Resources', 9,inplace=True)"
   ]
  },
  {
   "cell_type": "code",
   "execution_count": 39,
   "id": "1bfa872c",
   "metadata": {},
   "outputs": [],
   "source": [
    "df['OverTime']\n",
    "df['OverTime'].replace('Yes',1,inplace=True)\n",
    "df['OverTime'].replace('No',2,inplace=True)"
   ]
  },
  {
   "cell_type": "code",
   "execution_count": 40,
   "id": "5b22dec7",
   "metadata": {},
   "outputs": [],
   "source": [
    "df=df.drop('Over18',axis=1)"
   ]
  },
  {
   "cell_type": "code",
   "execution_count": 42,
   "id": "f5a6f528",
   "metadata": {},
   "outputs": [
    {
     "name": "stdout",
     "output_type": "stream",
     "text": [
      "<class 'pandas.core.frame.DataFrame'>\n",
      "RangeIndex: 1470 entries, 0 to 1469\n",
      "Data columns (total 34 columns):\n",
      " #   Column                    Non-Null Count  Dtype  \n",
      "---  ------                    --------------  -----  \n",
      " 0   Age                       1470 non-null   int64  \n",
      " 1   Attrition                 1470 non-null   int64  \n",
      " 2   BusinessTravel            1470 non-null   int64  \n",
      " 3   DailyRate                 1470 non-null   int64  \n",
      " 4   Department                1470 non-null   int64  \n",
      " 5   DistanceFromHome          1470 non-null   int64  \n",
      " 6   Education                 1470 non-null   int64  \n",
      " 7   EducationField            1470 non-null   int64  \n",
      " 8   EmployeeCount             1470 non-null   int64  \n",
      " 9   EmployeeNumber            1470 non-null   int64  \n",
      " 10  EnvironmentSatisfaction   1470 non-null   int64  \n",
      " 11  Gender                    1470 non-null   int64  \n",
      " 12  HourlyRate                1470 non-null   int64  \n",
      " 13  JobInvolvement            1470 non-null   int64  \n",
      " 14  JobLevel                  1470 non-null   int64  \n",
      " 15  JobRole                   1470 non-null   int64  \n",
      " 16  JobSatisfaction           1470 non-null   int64  \n",
      " 17  MaritalStatus             1470 non-null   int64  \n",
      " 18  MonthlyIncome             1470 non-null   int64  \n",
      " 19  MonthlyRate               1470 non-null   int64  \n",
      " 20  NumCompaniesWorked        1470 non-null   int64  \n",
      " 21  OverTime                  1470 non-null   int64  \n",
      " 22  PercentSalaryHike         1470 non-null   int64  \n",
      " 23  PerformanceRating         1470 non-null   int64  \n",
      " 24  RelationshipSatisfaction  1470 non-null   int64  \n",
      " 25  StandardHours             1470 non-null   int64  \n",
      " 26  StockOptionLevel          1470 non-null   int64  \n",
      " 27  TotalWorkingYears         1470 non-null   float64\n",
      " 28  TrainingTimesLastYear     1470 non-null   int64  \n",
      " 29  WorkLifeBalance           1470 non-null   int64  \n",
      " 30  YearsAtCompany            1470 non-null   float64\n",
      " 31  YearsInCurrentRole        1470 non-null   int64  \n",
      " 32  YearsSinceLastPromotion   1470 non-null   float64\n",
      " 33  YearsWithCurrManager      1470 non-null   int64  \n",
      "dtypes: float64(3), int64(31)\n",
      "memory usage: 390.6 KB\n"
     ]
    }
   ],
   "source": [
    "df.info()"
   ]
  },
  {
   "cell_type": "code",
   "execution_count": 43,
   "id": "d2dc662b",
   "metadata": {},
   "outputs": [],
   "source": [
    "X=df.drop(\"Attrition\",axis=1)# idependent feature from all coloumn we will skip the last coloumn\n",
    "y=df[\"Attrition\"]\n"
   ]
  },
  {
   "cell_type": "code",
   "execution_count": 44,
   "id": "8dc75611",
   "metadata": {},
   "outputs": [
    {
     "data": {
      "text/plain": [
       "0       1\n",
       "1       0\n",
       "2       1\n",
       "3       0\n",
       "4       0\n",
       "       ..\n",
       "1465    0\n",
       "1466    0\n",
       "1467    0\n",
       "1468    0\n",
       "1469    0\n",
       "Name: Attrition, Length: 1470, dtype: int64"
      ]
     },
     "execution_count": 44,
     "metadata": {},
     "output_type": "execute_result"
    }
   ],
   "source": [
    "y"
   ]
  },
  {
   "cell_type": "code",
   "execution_count": 45,
   "id": "b638895d",
   "metadata": {},
   "outputs": [],
   "source": [
    "from sklearn.model_selection import train_test_split\n",
    "X_train,X_test,y_train,y_test=train_test_split(X,y,test_size=0.33,random_state=42)\n",
    "\n"
   ]
  },
  {
   "cell_type": "markdown",
   "id": "743f6c2e",
   "metadata": {},
   "source": [
    "# As dataset is imbalanced, Trying to bulid the models with:\n",
    "\n",
    "  1)Cross Validation\n",
    "  \n",
    "  2)Stratified Cross Validation\n",
    "  \n",
    "Building multiple models comparing accuracy to select the best model\n",
    "\n",
    "Plotting an ROC curve from the multiple models \n",
    "And selecting the optimal threshold for classification"
   ]
  },
  {
   "cell_type": "code",
   "execution_count": 46,
   "id": "0964e190",
   "metadata": {},
   "outputs": [],
   "source": [
    "# from sklearn.model_selection import cross_val_score\n",
    "# lin_reg=LinearRegression()\n",
    "\n",
    "#  mse=cross_val_score(lin_reg,X_train,y_train,scoring='neg_mean_squared_error',cv=5)\n",
    "from sklearn.decomposition import PCA\n",
    "from sklearn.preprocessing import scale\n",
    "from sklearn.impute import SimpleImputer\n",
    "imputer = SimpleImputer(missing_values=np.nan, strategy='mean')\n",
    "from sklearn import model_selection\n",
    "from sklearn.metrics import classification_report\n",
    "from sklearn.metrics import confusion_matrix\n",
    "from sklearn.metrics import accuracy_score\n",
    "from sklearn.linear_model import LogisticRegression\n",
    "from sklearn.tree import DecisionTreeClassifier\n",
    "from sklearn.neighbors import KNeighborsClassifier\n",
    "from sklearn.discriminant_analysis import LinearDiscriminantAnalysis\n",
    "from sklearn.naive_bayes import GaussianNB\n",
    "from sklearn.svm import SVC"
   ]
  },
  {
   "cell_type": "code",
   "execution_count": 47,
   "id": "2a9bddbb",
   "metadata": {},
   "outputs": [],
   "source": [
    "# Spot Check Algorithms\n",
    "models = []\n",
    "models.append(('LR', LogisticRegression()))\n",
    "models.append(('LDA', LinearDiscriminantAnalysis()))\n",
    "models.append(('K-NN', KNeighborsClassifier()))\n",
    "models.append(('CART', DecisionTreeClassifier()))\n",
    "models.append(('NB', GaussianNB()))\n",
    "models.append(('SVM', SVC()))"
   ]
  },
  {
   "cell_type": "code",
   "execution_count": 48,
   "id": "2e9b35c9",
   "metadata": {},
   "outputs": [],
   "source": [
    "# Test options and evaluation metric\n",
    "seed = 7\n",
    "scoring = 'accuracy'"
   ]
  },
  {
   "cell_type": "code",
   "execution_count": 49,
   "id": "9c738ed3",
   "metadata": {},
   "outputs": [
    {
     "name": "stderr",
     "output_type": "stream",
     "text": [
      "C:\\Users\\adhar\\anaconda3\\lib\\site-packages\\sklearn\\linear_model\\_logistic.py:444: ConvergenceWarning: lbfgs failed to converge (status=1):\n",
      "STOP: TOTAL NO. of ITERATIONS REACHED LIMIT.\n",
      "\n",
      "Increase the number of iterations (max_iter) or scale the data as shown in:\n",
      "    https://scikit-learn.org/stable/modules/preprocessing.html\n",
      "Please also refer to the documentation for alternative solver options:\n",
      "    https://scikit-learn.org/stable/modules/linear_model.html#logistic-regression\n",
      "  n_iter_i = _check_optimize_result(\n",
      "C:\\Users\\adhar\\anaconda3\\lib\\site-packages\\sklearn\\linear_model\\_logistic.py:444: ConvergenceWarning: lbfgs failed to converge (status=1):\n",
      "STOP: TOTAL NO. of ITERATIONS REACHED LIMIT.\n",
      "\n",
      "Increase the number of iterations (max_iter) or scale the data as shown in:\n",
      "    https://scikit-learn.org/stable/modules/preprocessing.html\n",
      "Please also refer to the documentation for alternative solver options:\n",
      "    https://scikit-learn.org/stable/modules/linear_model.html#logistic-regression\n",
      "  n_iter_i = _check_optimize_result(\n",
      "C:\\Users\\adhar\\anaconda3\\lib\\site-packages\\sklearn\\linear_model\\_logistic.py:444: ConvergenceWarning: lbfgs failed to converge (status=1):\n",
      "STOP: TOTAL NO. of ITERATIONS REACHED LIMIT.\n",
      "\n",
      "Increase the number of iterations (max_iter) or scale the data as shown in:\n",
      "    https://scikit-learn.org/stable/modules/preprocessing.html\n",
      "Please also refer to the documentation for alternative solver options:\n",
      "    https://scikit-learn.org/stable/modules/linear_model.html#logistic-regression\n",
      "  n_iter_i = _check_optimize_result(\n",
      "C:\\Users\\adhar\\anaconda3\\lib\\site-packages\\sklearn\\linear_model\\_logistic.py:444: ConvergenceWarning: lbfgs failed to converge (status=1):\n",
      "STOP: TOTAL NO. of ITERATIONS REACHED LIMIT.\n",
      "\n",
      "Increase the number of iterations (max_iter) or scale the data as shown in:\n",
      "    https://scikit-learn.org/stable/modules/preprocessing.html\n",
      "Please also refer to the documentation for alternative solver options:\n",
      "    https://scikit-learn.org/stable/modules/linear_model.html#logistic-regression\n",
      "  n_iter_i = _check_optimize_result(\n",
      "C:\\Users\\adhar\\anaconda3\\lib\\site-packages\\sklearn\\linear_model\\_logistic.py:444: ConvergenceWarning: lbfgs failed to converge (status=1):\n",
      "STOP: TOTAL NO. of ITERATIONS REACHED LIMIT.\n",
      "\n",
      "Increase the number of iterations (max_iter) or scale the data as shown in:\n",
      "    https://scikit-learn.org/stable/modules/preprocessing.html\n",
      "Please also refer to the documentation for alternative solver options:\n",
      "    https://scikit-learn.org/stable/modules/linear_model.html#logistic-regression\n",
      "  n_iter_i = _check_optimize_result(\n",
      "C:\\Users\\adhar\\anaconda3\\lib\\site-packages\\sklearn\\linear_model\\_logistic.py:444: ConvergenceWarning: lbfgs failed to converge (status=1):\n",
      "STOP: TOTAL NO. of ITERATIONS REACHED LIMIT.\n",
      "\n",
      "Increase the number of iterations (max_iter) or scale the data as shown in:\n",
      "    https://scikit-learn.org/stable/modules/preprocessing.html\n",
      "Please also refer to the documentation for alternative solver options:\n",
      "    https://scikit-learn.org/stable/modules/linear_model.html#logistic-regression\n",
      "  n_iter_i = _check_optimize_result(\n",
      "C:\\Users\\adhar\\anaconda3\\lib\\site-packages\\sklearn\\linear_model\\_logistic.py:444: ConvergenceWarning: lbfgs failed to converge (status=1):\n",
      "STOP: TOTAL NO. of ITERATIONS REACHED LIMIT.\n",
      "\n",
      "Increase the number of iterations (max_iter) or scale the data as shown in:\n",
      "    https://scikit-learn.org/stable/modules/preprocessing.html\n",
      "Please also refer to the documentation for alternative solver options:\n",
      "    https://scikit-learn.org/stable/modules/linear_model.html#logistic-regression\n",
      "  n_iter_i = _check_optimize_result(\n",
      "C:\\Users\\adhar\\anaconda3\\lib\\site-packages\\sklearn\\linear_model\\_logistic.py:444: ConvergenceWarning: lbfgs failed to converge (status=1):\n",
      "STOP: TOTAL NO. of ITERATIONS REACHED LIMIT.\n",
      "\n",
      "Increase the number of iterations (max_iter) or scale the data as shown in:\n",
      "    https://scikit-learn.org/stable/modules/preprocessing.html\n",
      "Please also refer to the documentation for alternative solver options:\n",
      "    https://scikit-learn.org/stable/modules/linear_model.html#logistic-regression\n",
      "  n_iter_i = _check_optimize_result(\n",
      "C:\\Users\\adhar\\anaconda3\\lib\\site-packages\\sklearn\\linear_model\\_logistic.py:444: ConvergenceWarning: lbfgs failed to converge (status=1):\n",
      "STOP: TOTAL NO. of ITERATIONS REACHED LIMIT.\n",
      "\n",
      "Increase the number of iterations (max_iter) or scale the data as shown in:\n",
      "    https://scikit-learn.org/stable/modules/preprocessing.html\n",
      "Please also refer to the documentation for alternative solver options:\n",
      "    https://scikit-learn.org/stable/modules/linear_model.html#logistic-regression\n",
      "  n_iter_i = _check_optimize_result(\n",
      "C:\\Users\\adhar\\anaconda3\\lib\\site-packages\\sklearn\\linear_model\\_logistic.py:444: ConvergenceWarning: lbfgs failed to converge (status=1):\n",
      "STOP: TOTAL NO. of ITERATIONS REACHED LIMIT.\n",
      "\n",
      "Increase the number of iterations (max_iter) or scale the data as shown in:\n",
      "    https://scikit-learn.org/stable/modules/preprocessing.html\n",
      "Please also refer to the documentation for alternative solver options:\n",
      "    https://scikit-learn.org/stable/modules/linear_model.html#logistic-regression\n",
      "  n_iter_i = _check_optimize_result(\n"
     ]
    },
    {
     "name": "stdout",
     "output_type": "stream",
     "text": [
      "LR: 0.830241 (0.039556)\n",
      "LDA: 0.852566 (0.041909)\n"
     ]
    },
    {
     "name": "stderr",
     "output_type": "stream",
     "text": [
      "C:\\Users\\adhar\\anaconda3\\lib\\site-packages\\sklearn\\model_selection\\_validation.py:776: UserWarning: Scoring failed. The score on this train-test partition for these parameters will be set to nan. Details: \n",
      "Traceback (most recent call last):\n",
      "  File \"C:\\Users\\adhar\\anaconda3\\lib\\site-packages\\sklearn\\model_selection\\_validation.py\", line 767, in _score\n",
      "    scores = scorer(estimator, X_test, y_test)\n",
      "  File \"C:\\Users\\adhar\\anaconda3\\lib\\site-packages\\sklearn\\metrics\\_scorer.py\", line 106, in __call__\n",
      "    score = scorer._score(cached_call, estimator, *args, **kwargs)\n",
      "  File \"C:\\Users\\adhar\\anaconda3\\lib\\site-packages\\sklearn\\metrics\\_scorer.py\", line 261, in _score\n",
      "    y_pred = method_caller(estimator, \"predict\", X)\n",
      "  File \"C:\\Users\\adhar\\anaconda3\\lib\\site-packages\\sklearn\\metrics\\_scorer.py\", line 71, in _cached_call\n",
      "    return getattr(estimator, method)(*args, **kwargs)\n",
      "  File \"C:\\Users\\adhar\\anaconda3\\lib\\site-packages\\sklearn\\neighbors\\_classification.py\", line 226, in predict\n",
      "    neigh_ind = self.kneighbors(X, return_distance=False)\n",
      "  File \"C:\\Users\\adhar\\anaconda3\\lib\\site-packages\\sklearn\\neighbors\\_base.py\", line 763, in kneighbors\n",
      "    results = PairwiseDistancesArgKmin.compute(\n",
      "  File \"sklearn\\metrics\\_pairwise_distances_reduction.pyx\", line 698, in sklearn.metrics._pairwise_distances_reduction.PairwiseDistancesArgKmin.compute\n",
      "  File \"C:\\Users\\adhar\\anaconda3\\lib\\site-packages\\sklearn\\utils\\fixes.py\", line 151, in threadpool_limits\n",
      "    return threadpoolctl.threadpool_limits(limits=limits, user_api=user_api)\n",
      "  File \"C:\\Users\\adhar\\anaconda3\\lib\\site-packages\\threadpoolctl.py\", line 171, in __init__\n",
      "    self._original_info = self._set_threadpool_limits()\n",
      "  File \"C:\\Users\\adhar\\anaconda3\\lib\\site-packages\\threadpoolctl.py\", line 268, in _set_threadpool_limits\n",
      "    modules = _ThreadpoolInfo(prefixes=self._prefixes,\n",
      "  File \"C:\\Users\\adhar\\anaconda3\\lib\\site-packages\\threadpoolctl.py\", line 340, in __init__\n",
      "    self._load_modules()\n",
      "  File \"C:\\Users\\adhar\\anaconda3\\lib\\site-packages\\threadpoolctl.py\", line 373, in _load_modules\n",
      "    self._find_modules_with_enum_process_module_ex()\n",
      "  File \"C:\\Users\\adhar\\anaconda3\\lib\\site-packages\\threadpoolctl.py\", line 485, in _find_modules_with_enum_process_module_ex\n",
      "    self._make_module_from_path(filepath)\n",
      "  File \"C:\\Users\\adhar\\anaconda3\\lib\\site-packages\\threadpoolctl.py\", line 515, in _make_module_from_path\n",
      "    module = module_class(filepath, prefix, user_api, internal_api)\n",
      "  File \"C:\\Users\\adhar\\anaconda3\\lib\\site-packages\\threadpoolctl.py\", line 606, in __init__\n",
      "    self.version = self.get_version()\n",
      "  File \"C:\\Users\\adhar\\anaconda3\\lib\\site-packages\\threadpoolctl.py\", line 646, in get_version\n",
      "    config = get_config().split()\n",
      "AttributeError: 'NoneType' object has no attribute 'split'\n",
      "\n",
      "  warnings.warn(\n",
      "C:\\Users\\adhar\\anaconda3\\lib\\site-packages\\sklearn\\model_selection\\_validation.py:776: UserWarning: Scoring failed. The score on this train-test partition for these parameters will be set to nan. Details: \n",
      "Traceback (most recent call last):\n",
      "  File \"C:\\Users\\adhar\\anaconda3\\lib\\site-packages\\sklearn\\model_selection\\_validation.py\", line 767, in _score\n",
      "    scores = scorer(estimator, X_test, y_test)\n",
      "  File \"C:\\Users\\adhar\\anaconda3\\lib\\site-packages\\sklearn\\metrics\\_scorer.py\", line 106, in __call__\n",
      "    score = scorer._score(cached_call, estimator, *args, **kwargs)\n",
      "  File \"C:\\Users\\adhar\\anaconda3\\lib\\site-packages\\sklearn\\metrics\\_scorer.py\", line 261, in _score\n",
      "    y_pred = method_caller(estimator, \"predict\", X)\n",
      "  File \"C:\\Users\\adhar\\anaconda3\\lib\\site-packages\\sklearn\\metrics\\_scorer.py\", line 71, in _cached_call\n",
      "    return getattr(estimator, method)(*args, **kwargs)\n",
      "  File \"C:\\Users\\adhar\\anaconda3\\lib\\site-packages\\sklearn\\neighbors\\_classification.py\", line 226, in predict\n",
      "    neigh_ind = self.kneighbors(X, return_distance=False)\n",
      "  File \"C:\\Users\\adhar\\anaconda3\\lib\\site-packages\\sklearn\\neighbors\\_base.py\", line 763, in kneighbors\n",
      "    results = PairwiseDistancesArgKmin.compute(\n",
      "  File \"sklearn\\metrics\\_pairwise_distances_reduction.pyx\", line 698, in sklearn.metrics._pairwise_distances_reduction.PairwiseDistancesArgKmin.compute\n",
      "  File \"C:\\Users\\adhar\\anaconda3\\lib\\site-packages\\sklearn\\utils\\fixes.py\", line 151, in threadpool_limits\n",
      "    return threadpoolctl.threadpool_limits(limits=limits, user_api=user_api)\n",
      "  File \"C:\\Users\\adhar\\anaconda3\\lib\\site-packages\\threadpoolctl.py\", line 171, in __init__\n",
      "    self._original_info = self._set_threadpool_limits()\n",
      "  File \"C:\\Users\\adhar\\anaconda3\\lib\\site-packages\\threadpoolctl.py\", line 268, in _set_threadpool_limits\n",
      "    modules = _ThreadpoolInfo(prefixes=self._prefixes,\n",
      "  File \"C:\\Users\\adhar\\anaconda3\\lib\\site-packages\\threadpoolctl.py\", line 340, in __init__\n",
      "    self._load_modules()\n",
      "  File \"C:\\Users\\adhar\\anaconda3\\lib\\site-packages\\threadpoolctl.py\", line 373, in _load_modules\n",
      "    self._find_modules_with_enum_process_module_ex()\n",
      "  File \"C:\\Users\\adhar\\anaconda3\\lib\\site-packages\\threadpoolctl.py\", line 485, in _find_modules_with_enum_process_module_ex\n",
      "    self._make_module_from_path(filepath)\n",
      "  File \"C:\\Users\\adhar\\anaconda3\\lib\\site-packages\\threadpoolctl.py\", line 515, in _make_module_from_path\n",
      "    module = module_class(filepath, prefix, user_api, internal_api)\n",
      "  File \"C:\\Users\\adhar\\anaconda3\\lib\\site-packages\\threadpoolctl.py\", line 606, in __init__\n",
      "    self.version = self.get_version()\n",
      "  File \"C:\\Users\\adhar\\anaconda3\\lib\\site-packages\\threadpoolctl.py\", line 646, in get_version\n",
      "    config = get_config().split()\n",
      "AttributeError: 'NoneType' object has no attribute 'split'\n",
      "\n",
      "  warnings.warn(\n",
      "C:\\Users\\adhar\\anaconda3\\lib\\site-packages\\sklearn\\model_selection\\_validation.py:776: UserWarning: Scoring failed. The score on this train-test partition for these parameters will be set to nan. Details: \n",
      "Traceback (most recent call last):\n",
      "  File \"C:\\Users\\adhar\\anaconda3\\lib\\site-packages\\sklearn\\model_selection\\_validation.py\", line 767, in _score\n",
      "    scores = scorer(estimator, X_test, y_test)\n",
      "  File \"C:\\Users\\adhar\\anaconda3\\lib\\site-packages\\sklearn\\metrics\\_scorer.py\", line 106, in __call__\n",
      "    score = scorer._score(cached_call, estimator, *args, **kwargs)\n",
      "  File \"C:\\Users\\adhar\\anaconda3\\lib\\site-packages\\sklearn\\metrics\\_scorer.py\", line 261, in _score\n",
      "    y_pred = method_caller(estimator, \"predict\", X)\n",
      "  File \"C:\\Users\\adhar\\anaconda3\\lib\\site-packages\\sklearn\\metrics\\_scorer.py\", line 71, in _cached_call\n",
      "    return getattr(estimator, method)(*args, **kwargs)\n",
      "  File \"C:\\Users\\adhar\\anaconda3\\lib\\site-packages\\sklearn\\neighbors\\_classification.py\", line 226, in predict\n",
      "    neigh_ind = self.kneighbors(X, return_distance=False)\n",
      "  File \"C:\\Users\\adhar\\anaconda3\\lib\\site-packages\\sklearn\\neighbors\\_base.py\", line 763, in kneighbors\n",
      "    results = PairwiseDistancesArgKmin.compute(\n",
      "  File \"sklearn\\metrics\\_pairwise_distances_reduction.pyx\", line 698, in sklearn.metrics._pairwise_distances_reduction.PairwiseDistancesArgKmin.compute\n",
      "  File \"C:\\Users\\adhar\\anaconda3\\lib\\site-packages\\sklearn\\utils\\fixes.py\", line 151, in threadpool_limits\n",
      "    return threadpoolctl.threadpool_limits(limits=limits, user_api=user_api)\n",
      "  File \"C:\\Users\\adhar\\anaconda3\\lib\\site-packages\\threadpoolctl.py\", line 171, in __init__\n",
      "    self._original_info = self._set_threadpool_limits()\n",
      "  File \"C:\\Users\\adhar\\anaconda3\\lib\\site-packages\\threadpoolctl.py\", line 268, in _set_threadpool_limits\n",
      "    modules = _ThreadpoolInfo(prefixes=self._prefixes,\n",
      "  File \"C:\\Users\\adhar\\anaconda3\\lib\\site-packages\\threadpoolctl.py\", line 340, in __init__\n",
      "    self._load_modules()\n",
      "  File \"C:\\Users\\adhar\\anaconda3\\lib\\site-packages\\threadpoolctl.py\", line 373, in _load_modules\n",
      "    self._find_modules_with_enum_process_module_ex()\n",
      "  File \"C:\\Users\\adhar\\anaconda3\\lib\\site-packages\\threadpoolctl.py\", line 485, in _find_modules_with_enum_process_module_ex\n",
      "    self._make_module_from_path(filepath)\n",
      "  File \"C:\\Users\\adhar\\anaconda3\\lib\\site-packages\\threadpoolctl.py\", line 515, in _make_module_from_path\n",
      "    module = module_class(filepath, prefix, user_api, internal_api)\n",
      "  File \"C:\\Users\\adhar\\anaconda3\\lib\\site-packages\\threadpoolctl.py\", line 606, in __init__\n",
      "    self.version = self.get_version()\n",
      "  File \"C:\\Users\\adhar\\anaconda3\\lib\\site-packages\\threadpoolctl.py\", line 646, in get_version\n",
      "    config = get_config().split()\n",
      "AttributeError: 'NoneType' object has no attribute 'split'\n",
      "\n",
      "  warnings.warn(\n",
      "C:\\Users\\adhar\\anaconda3\\lib\\site-packages\\sklearn\\model_selection\\_validation.py:776: UserWarning: Scoring failed. The score on this train-test partition for these parameters will be set to nan. Details: \n",
      "Traceback (most recent call last):\n",
      "  File \"C:\\Users\\adhar\\anaconda3\\lib\\site-packages\\sklearn\\model_selection\\_validation.py\", line 767, in _score\n",
      "    scores = scorer(estimator, X_test, y_test)\n",
      "  File \"C:\\Users\\adhar\\anaconda3\\lib\\site-packages\\sklearn\\metrics\\_scorer.py\", line 106, in __call__\n",
      "    score = scorer._score(cached_call, estimator, *args, **kwargs)\n",
      "  File \"C:\\Users\\adhar\\anaconda3\\lib\\site-packages\\sklearn\\metrics\\_scorer.py\", line 261, in _score\n",
      "    y_pred = method_caller(estimator, \"predict\", X)\n",
      "  File \"C:\\Users\\adhar\\anaconda3\\lib\\site-packages\\sklearn\\metrics\\_scorer.py\", line 71, in _cached_call\n",
      "    return getattr(estimator, method)(*args, **kwargs)\n",
      "  File \"C:\\Users\\adhar\\anaconda3\\lib\\site-packages\\sklearn\\neighbors\\_classification.py\", line 226, in predict\n",
      "    neigh_ind = self.kneighbors(X, return_distance=False)\n",
      "  File \"C:\\Users\\adhar\\anaconda3\\lib\\site-packages\\sklearn\\neighbors\\_base.py\", line 763, in kneighbors\n",
      "    results = PairwiseDistancesArgKmin.compute(\n",
      "  File \"sklearn\\metrics\\_pairwise_distances_reduction.pyx\", line 698, in sklearn.metrics._pairwise_distances_reduction.PairwiseDistancesArgKmin.compute\n",
      "  File \"C:\\Users\\adhar\\anaconda3\\lib\\site-packages\\sklearn\\utils\\fixes.py\", line 151, in threadpool_limits\n",
      "    return threadpoolctl.threadpool_limits(limits=limits, user_api=user_api)\n",
      "  File \"C:\\Users\\adhar\\anaconda3\\lib\\site-packages\\threadpoolctl.py\", line 171, in __init__\n",
      "    self._original_info = self._set_threadpool_limits()\n",
      "  File \"C:\\Users\\adhar\\anaconda3\\lib\\site-packages\\threadpoolctl.py\", line 268, in _set_threadpool_limits\n",
      "    modules = _ThreadpoolInfo(prefixes=self._prefixes,\n",
      "  File \"C:\\Users\\adhar\\anaconda3\\lib\\site-packages\\threadpoolctl.py\", line 340, in __init__\n",
      "    self._load_modules()\n",
      "  File \"C:\\Users\\adhar\\anaconda3\\lib\\site-packages\\threadpoolctl.py\", line 373, in _load_modules\n",
      "    self._find_modules_with_enum_process_module_ex()\n",
      "  File \"C:\\Users\\adhar\\anaconda3\\lib\\site-packages\\threadpoolctl.py\", line 485, in _find_modules_with_enum_process_module_ex\n",
      "    self._make_module_from_path(filepath)\n",
      "  File \"C:\\Users\\adhar\\anaconda3\\lib\\site-packages\\threadpoolctl.py\", line 515, in _make_module_from_path\n",
      "    module = module_class(filepath, prefix, user_api, internal_api)\n",
      "  File \"C:\\Users\\adhar\\anaconda3\\lib\\site-packages\\threadpoolctl.py\", line 606, in __init__\n",
      "    self.version = self.get_version()\n",
      "  File \"C:\\Users\\adhar\\anaconda3\\lib\\site-packages\\threadpoolctl.py\", line 646, in get_version\n",
      "    config = get_config().split()\n",
      "AttributeError: 'NoneType' object has no attribute 'split'\n",
      "\n",
      "  warnings.warn(\n",
      "C:\\Users\\adhar\\anaconda3\\lib\\site-packages\\sklearn\\model_selection\\_validation.py:776: UserWarning: Scoring failed. The score on this train-test partition for these parameters will be set to nan. Details: \n",
      "Traceback (most recent call last):\n",
      "  File \"C:\\Users\\adhar\\anaconda3\\lib\\site-packages\\sklearn\\model_selection\\_validation.py\", line 767, in _score\n",
      "    scores = scorer(estimator, X_test, y_test)\n",
      "  File \"C:\\Users\\adhar\\anaconda3\\lib\\site-packages\\sklearn\\metrics\\_scorer.py\", line 106, in __call__\n",
      "    score = scorer._score(cached_call, estimator, *args, **kwargs)\n",
      "  File \"C:\\Users\\adhar\\anaconda3\\lib\\site-packages\\sklearn\\metrics\\_scorer.py\", line 261, in _score\n",
      "    y_pred = method_caller(estimator, \"predict\", X)\n",
      "  File \"C:\\Users\\adhar\\anaconda3\\lib\\site-packages\\sklearn\\metrics\\_scorer.py\", line 71, in _cached_call\n",
      "    return getattr(estimator, method)(*args, **kwargs)\n",
      "  File \"C:\\Users\\adhar\\anaconda3\\lib\\site-packages\\sklearn\\neighbors\\_classification.py\", line 226, in predict\n",
      "    neigh_ind = self.kneighbors(X, return_distance=False)\n",
      "  File \"C:\\Users\\adhar\\anaconda3\\lib\\site-packages\\sklearn\\neighbors\\_base.py\", line 763, in kneighbors\n",
      "    results = PairwiseDistancesArgKmin.compute(\n",
      "  File \"sklearn\\metrics\\_pairwise_distances_reduction.pyx\", line 698, in sklearn.metrics._pairwise_distances_reduction.PairwiseDistancesArgKmin.compute\n",
      "  File \"C:\\Users\\adhar\\anaconda3\\lib\\site-packages\\sklearn\\utils\\fixes.py\", line 151, in threadpool_limits\n",
      "    return threadpoolctl.threadpool_limits(limits=limits, user_api=user_api)\n",
      "  File \"C:\\Users\\adhar\\anaconda3\\lib\\site-packages\\threadpoolctl.py\", line 171, in __init__\n",
      "    self._original_info = self._set_threadpool_limits()\n",
      "  File \"C:\\Users\\adhar\\anaconda3\\lib\\site-packages\\threadpoolctl.py\", line 268, in _set_threadpool_limits\n",
      "    modules = _ThreadpoolInfo(prefixes=self._prefixes,\n",
      "  File \"C:\\Users\\adhar\\anaconda3\\lib\\site-packages\\threadpoolctl.py\", line 340, in __init__\n",
      "    self._load_modules()\n",
      "  File \"C:\\Users\\adhar\\anaconda3\\lib\\site-packages\\threadpoolctl.py\", line 373, in _load_modules\n",
      "    self._find_modules_with_enum_process_module_ex()\n",
      "  File \"C:\\Users\\adhar\\anaconda3\\lib\\site-packages\\threadpoolctl.py\", line 485, in _find_modules_with_enum_process_module_ex\n",
      "    self._make_module_from_path(filepath)\n",
      "  File \"C:\\Users\\adhar\\anaconda3\\lib\\site-packages\\threadpoolctl.py\", line 515, in _make_module_from_path\n",
      "    module = module_class(filepath, prefix, user_api, internal_api)\n",
      "  File \"C:\\Users\\adhar\\anaconda3\\lib\\site-packages\\threadpoolctl.py\", line 606, in __init__\n",
      "    self.version = self.get_version()\n",
      "  File \"C:\\Users\\adhar\\anaconda3\\lib\\site-packages\\threadpoolctl.py\", line 646, in get_version\n",
      "    config = get_config().split()\n",
      "AttributeError: 'NoneType' object has no attribute 'split'\n",
      "\n",
      "  warnings.warn(\n",
      "C:\\Users\\adhar\\anaconda3\\lib\\site-packages\\sklearn\\model_selection\\_validation.py:776: UserWarning: Scoring failed. The score on this train-test partition for these parameters will be set to nan. Details: \n",
      "Traceback (most recent call last):\n",
      "  File \"C:\\Users\\adhar\\anaconda3\\lib\\site-packages\\sklearn\\model_selection\\_validation.py\", line 767, in _score\n",
      "    scores = scorer(estimator, X_test, y_test)\n",
      "  File \"C:\\Users\\adhar\\anaconda3\\lib\\site-packages\\sklearn\\metrics\\_scorer.py\", line 106, in __call__\n",
      "    score = scorer._score(cached_call, estimator, *args, **kwargs)\n",
      "  File \"C:\\Users\\adhar\\anaconda3\\lib\\site-packages\\sklearn\\metrics\\_scorer.py\", line 261, in _score\n",
      "    y_pred = method_caller(estimator, \"predict\", X)\n",
      "  File \"C:\\Users\\adhar\\anaconda3\\lib\\site-packages\\sklearn\\metrics\\_scorer.py\", line 71, in _cached_call\n",
      "    return getattr(estimator, method)(*args, **kwargs)\n",
      "  File \"C:\\Users\\adhar\\anaconda3\\lib\\site-packages\\sklearn\\neighbors\\_classification.py\", line 226, in predict\n",
      "    neigh_ind = self.kneighbors(X, return_distance=False)\n",
      "  File \"C:\\Users\\adhar\\anaconda3\\lib\\site-packages\\sklearn\\neighbors\\_base.py\", line 763, in kneighbors\n",
      "    results = PairwiseDistancesArgKmin.compute(\n",
      "  File \"sklearn\\metrics\\_pairwise_distances_reduction.pyx\", line 698, in sklearn.metrics._pairwise_distances_reduction.PairwiseDistancesArgKmin.compute\n",
      "  File \"C:\\Users\\adhar\\anaconda3\\lib\\site-packages\\sklearn\\utils\\fixes.py\", line 151, in threadpool_limits\n",
      "    return threadpoolctl.threadpool_limits(limits=limits, user_api=user_api)\n",
      "  File \"C:\\Users\\adhar\\anaconda3\\lib\\site-packages\\threadpoolctl.py\", line 171, in __init__\n",
      "    self._original_info = self._set_threadpool_limits()\n",
      "  File \"C:\\Users\\adhar\\anaconda3\\lib\\site-packages\\threadpoolctl.py\", line 268, in _set_threadpool_limits\n",
      "    modules = _ThreadpoolInfo(prefixes=self._prefixes,\n",
      "  File \"C:\\Users\\adhar\\anaconda3\\lib\\site-packages\\threadpoolctl.py\", line 340, in __init__\n",
      "    self._load_modules()\n",
      "  File \"C:\\Users\\adhar\\anaconda3\\lib\\site-packages\\threadpoolctl.py\", line 373, in _load_modules\n",
      "    self._find_modules_with_enum_process_module_ex()\n",
      "  File \"C:\\Users\\adhar\\anaconda3\\lib\\site-packages\\threadpoolctl.py\", line 485, in _find_modules_with_enum_process_module_ex\n",
      "    self._make_module_from_path(filepath)\n",
      "  File \"C:\\Users\\adhar\\anaconda3\\lib\\site-packages\\threadpoolctl.py\", line 515, in _make_module_from_path\n",
      "    module = module_class(filepath, prefix, user_api, internal_api)\n",
      "  File \"C:\\Users\\adhar\\anaconda3\\lib\\site-packages\\threadpoolctl.py\", line 606, in __init__\n",
      "    self.version = self.get_version()\n",
      "  File \"C:\\Users\\adhar\\anaconda3\\lib\\site-packages\\threadpoolctl.py\", line 646, in get_version\n",
      "    config = get_config().split()\n",
      "AttributeError: 'NoneType' object has no attribute 'split'\n",
      "\n",
      "  warnings.warn(\n",
      "C:\\Users\\adhar\\anaconda3\\lib\\site-packages\\sklearn\\model_selection\\_validation.py:776: UserWarning: Scoring failed. The score on this train-test partition for these parameters will be set to nan. Details: \n",
      "Traceback (most recent call last):\n",
      "  File \"C:\\Users\\adhar\\anaconda3\\lib\\site-packages\\sklearn\\model_selection\\_validation.py\", line 767, in _score\n",
      "    scores = scorer(estimator, X_test, y_test)\n",
      "  File \"C:\\Users\\adhar\\anaconda3\\lib\\site-packages\\sklearn\\metrics\\_scorer.py\", line 106, in __call__\n",
      "    score = scorer._score(cached_call, estimator, *args, **kwargs)\n",
      "  File \"C:\\Users\\adhar\\anaconda3\\lib\\site-packages\\sklearn\\metrics\\_scorer.py\", line 261, in _score\n",
      "    y_pred = method_caller(estimator, \"predict\", X)\n",
      "  File \"C:\\Users\\adhar\\anaconda3\\lib\\site-packages\\sklearn\\metrics\\_scorer.py\", line 71, in _cached_call\n",
      "    return getattr(estimator, method)(*args, **kwargs)\n",
      "  File \"C:\\Users\\adhar\\anaconda3\\lib\\site-packages\\sklearn\\neighbors\\_classification.py\", line 226, in predict\n",
      "    neigh_ind = self.kneighbors(X, return_distance=False)\n",
      "  File \"C:\\Users\\adhar\\anaconda3\\lib\\site-packages\\sklearn\\neighbors\\_base.py\", line 763, in kneighbors\n",
      "    results = PairwiseDistancesArgKmin.compute(\n",
      "  File \"sklearn\\metrics\\_pairwise_distances_reduction.pyx\", line 698, in sklearn.metrics._pairwise_distances_reduction.PairwiseDistancesArgKmin.compute\n",
      "  File \"C:\\Users\\adhar\\anaconda3\\lib\\site-packages\\sklearn\\utils\\fixes.py\", line 151, in threadpool_limits\n",
      "    return threadpoolctl.threadpool_limits(limits=limits, user_api=user_api)\n",
      "  File \"C:\\Users\\adhar\\anaconda3\\lib\\site-packages\\threadpoolctl.py\", line 171, in __init__\n",
      "    self._original_info = self._set_threadpool_limits()\n",
      "  File \"C:\\Users\\adhar\\anaconda3\\lib\\site-packages\\threadpoolctl.py\", line 268, in _set_threadpool_limits\n",
      "    modules = _ThreadpoolInfo(prefixes=self._prefixes,\n",
      "  File \"C:\\Users\\adhar\\anaconda3\\lib\\site-packages\\threadpoolctl.py\", line 340, in __init__\n",
      "    self._load_modules()\n",
      "  File \"C:\\Users\\adhar\\anaconda3\\lib\\site-packages\\threadpoolctl.py\", line 373, in _load_modules\n",
      "    self._find_modules_with_enum_process_module_ex()\n",
      "  File \"C:\\Users\\adhar\\anaconda3\\lib\\site-packages\\threadpoolctl.py\", line 485, in _find_modules_with_enum_process_module_ex\n",
      "    self._make_module_from_path(filepath)\n",
      "  File \"C:\\Users\\adhar\\anaconda3\\lib\\site-packages\\threadpoolctl.py\", line 515, in _make_module_from_path\n",
      "    module = module_class(filepath, prefix, user_api, internal_api)\n",
      "  File \"C:\\Users\\adhar\\anaconda3\\lib\\site-packages\\threadpoolctl.py\", line 606, in __init__\n",
      "    self.version = self.get_version()\n",
      "  File \"C:\\Users\\adhar\\anaconda3\\lib\\site-packages\\threadpoolctl.py\", line 646, in get_version\n",
      "    config = get_config().split()\n",
      "AttributeError: 'NoneType' object has no attribute 'split'\n",
      "\n",
      "  warnings.warn(\n",
      "C:\\Users\\adhar\\anaconda3\\lib\\site-packages\\sklearn\\model_selection\\_validation.py:776: UserWarning: Scoring failed. The score on this train-test partition for these parameters will be set to nan. Details: \n",
      "Traceback (most recent call last):\n",
      "  File \"C:\\Users\\adhar\\anaconda3\\lib\\site-packages\\sklearn\\model_selection\\_validation.py\", line 767, in _score\n",
      "    scores = scorer(estimator, X_test, y_test)\n",
      "  File \"C:\\Users\\adhar\\anaconda3\\lib\\site-packages\\sklearn\\metrics\\_scorer.py\", line 106, in __call__\n",
      "    score = scorer._score(cached_call, estimator, *args, **kwargs)\n",
      "  File \"C:\\Users\\adhar\\anaconda3\\lib\\site-packages\\sklearn\\metrics\\_scorer.py\", line 261, in _score\n",
      "    y_pred = method_caller(estimator, \"predict\", X)\n",
      "  File \"C:\\Users\\adhar\\anaconda3\\lib\\site-packages\\sklearn\\metrics\\_scorer.py\", line 71, in _cached_call\n",
      "    return getattr(estimator, method)(*args, **kwargs)\n",
      "  File \"C:\\Users\\adhar\\anaconda3\\lib\\site-packages\\sklearn\\neighbors\\_classification.py\", line 226, in predict\n",
      "    neigh_ind = self.kneighbors(X, return_distance=False)\n",
      "  File \"C:\\Users\\adhar\\anaconda3\\lib\\site-packages\\sklearn\\neighbors\\_base.py\", line 763, in kneighbors\n",
      "    results = PairwiseDistancesArgKmin.compute(\n",
      "  File \"sklearn\\metrics\\_pairwise_distances_reduction.pyx\", line 698, in sklearn.metrics._pairwise_distances_reduction.PairwiseDistancesArgKmin.compute\n",
      "  File \"C:\\Users\\adhar\\anaconda3\\lib\\site-packages\\sklearn\\utils\\fixes.py\", line 151, in threadpool_limits\n",
      "    return threadpoolctl.threadpool_limits(limits=limits, user_api=user_api)\n",
      "  File \"C:\\Users\\adhar\\anaconda3\\lib\\site-packages\\threadpoolctl.py\", line 171, in __init__\n",
      "    self._original_info = self._set_threadpool_limits()\n",
      "  File \"C:\\Users\\adhar\\anaconda3\\lib\\site-packages\\threadpoolctl.py\", line 268, in _set_threadpool_limits\n",
      "    modules = _ThreadpoolInfo(prefixes=self._prefixes,\n",
      "  File \"C:\\Users\\adhar\\anaconda3\\lib\\site-packages\\threadpoolctl.py\", line 340, in __init__\n",
      "    self._load_modules()\n",
      "  File \"C:\\Users\\adhar\\anaconda3\\lib\\site-packages\\threadpoolctl.py\", line 373, in _load_modules\n",
      "    self._find_modules_with_enum_process_module_ex()\n",
      "  File \"C:\\Users\\adhar\\anaconda3\\lib\\site-packages\\threadpoolctl.py\", line 485, in _find_modules_with_enum_process_module_ex\n",
      "    self._make_module_from_path(filepath)\n",
      "  File \"C:\\Users\\adhar\\anaconda3\\lib\\site-packages\\threadpoolctl.py\", line 515, in _make_module_from_path\n",
      "    module = module_class(filepath, prefix, user_api, internal_api)\n",
      "  File \"C:\\Users\\adhar\\anaconda3\\lib\\site-packages\\threadpoolctl.py\", line 606, in __init__\n",
      "    self.version = self.get_version()\n",
      "  File \"C:\\Users\\adhar\\anaconda3\\lib\\site-packages\\threadpoolctl.py\", line 646, in get_version\n",
      "    config = get_config().split()\n",
      "AttributeError: 'NoneType' object has no attribute 'split'\n",
      "\n",
      "  warnings.warn(\n",
      "C:\\Users\\adhar\\anaconda3\\lib\\site-packages\\sklearn\\model_selection\\_validation.py:776: UserWarning: Scoring failed. The score on this train-test partition for these parameters will be set to nan. Details: \n",
      "Traceback (most recent call last):\n",
      "  File \"C:\\Users\\adhar\\anaconda3\\lib\\site-packages\\sklearn\\model_selection\\_validation.py\", line 767, in _score\n",
      "    scores = scorer(estimator, X_test, y_test)\n",
      "  File \"C:\\Users\\adhar\\anaconda3\\lib\\site-packages\\sklearn\\metrics\\_scorer.py\", line 106, in __call__\n",
      "    score = scorer._score(cached_call, estimator, *args, **kwargs)\n",
      "  File \"C:\\Users\\adhar\\anaconda3\\lib\\site-packages\\sklearn\\metrics\\_scorer.py\", line 261, in _score\n",
      "    y_pred = method_caller(estimator, \"predict\", X)\n",
      "  File \"C:\\Users\\adhar\\anaconda3\\lib\\site-packages\\sklearn\\metrics\\_scorer.py\", line 71, in _cached_call\n",
      "    return getattr(estimator, method)(*args, **kwargs)\n",
      "  File \"C:\\Users\\adhar\\anaconda3\\lib\\site-packages\\sklearn\\neighbors\\_classification.py\", line 226, in predict\n",
      "    neigh_ind = self.kneighbors(X, return_distance=False)\n",
      "  File \"C:\\Users\\adhar\\anaconda3\\lib\\site-packages\\sklearn\\neighbors\\_base.py\", line 763, in kneighbors\n",
      "    results = PairwiseDistancesArgKmin.compute(\n",
      "  File \"sklearn\\metrics\\_pairwise_distances_reduction.pyx\", line 698, in sklearn.metrics._pairwise_distances_reduction.PairwiseDistancesArgKmin.compute\n",
      "  File \"C:\\Users\\adhar\\anaconda3\\lib\\site-packages\\sklearn\\utils\\fixes.py\", line 151, in threadpool_limits\n",
      "    return threadpoolctl.threadpool_limits(limits=limits, user_api=user_api)\n",
      "  File \"C:\\Users\\adhar\\anaconda3\\lib\\site-packages\\threadpoolctl.py\", line 171, in __init__\n",
      "    self._original_info = self._set_threadpool_limits()\n",
      "  File \"C:\\Users\\adhar\\anaconda3\\lib\\site-packages\\threadpoolctl.py\", line 268, in _set_threadpool_limits\n",
      "    modules = _ThreadpoolInfo(prefixes=self._prefixes,\n",
      "  File \"C:\\Users\\adhar\\anaconda3\\lib\\site-packages\\threadpoolctl.py\", line 340, in __init__\n",
      "    self._load_modules()\n",
      "  File \"C:\\Users\\adhar\\anaconda3\\lib\\site-packages\\threadpoolctl.py\", line 373, in _load_modules\n",
      "    self._find_modules_with_enum_process_module_ex()\n",
      "  File \"C:\\Users\\adhar\\anaconda3\\lib\\site-packages\\threadpoolctl.py\", line 485, in _find_modules_with_enum_process_module_ex\n",
      "    self._make_module_from_path(filepath)\n",
      "  File \"C:\\Users\\adhar\\anaconda3\\lib\\site-packages\\threadpoolctl.py\", line 515, in _make_module_from_path\n",
      "    module = module_class(filepath, prefix, user_api, internal_api)\n",
      "  File \"C:\\Users\\adhar\\anaconda3\\lib\\site-packages\\threadpoolctl.py\", line 606, in __init__\n",
      "    self.version = self.get_version()\n",
      "  File \"C:\\Users\\adhar\\anaconda3\\lib\\site-packages\\threadpoolctl.py\", line 646, in get_version\n",
      "    config = get_config().split()\n",
      "AttributeError: 'NoneType' object has no attribute 'split'\n",
      "\n",
      "  warnings.warn(\n",
      "C:\\Users\\adhar\\anaconda3\\lib\\site-packages\\sklearn\\model_selection\\_validation.py:776: UserWarning: Scoring failed. The score on this train-test partition for these parameters will be set to nan. Details: \n",
      "Traceback (most recent call last):\n",
      "  File \"C:\\Users\\adhar\\anaconda3\\lib\\site-packages\\sklearn\\model_selection\\_validation.py\", line 767, in _score\n",
      "    scores = scorer(estimator, X_test, y_test)\n",
      "  File \"C:\\Users\\adhar\\anaconda3\\lib\\site-packages\\sklearn\\metrics\\_scorer.py\", line 106, in __call__\n",
      "    score = scorer._score(cached_call, estimator, *args, **kwargs)\n",
      "  File \"C:\\Users\\adhar\\anaconda3\\lib\\site-packages\\sklearn\\metrics\\_scorer.py\", line 261, in _score\n",
      "    y_pred = method_caller(estimator, \"predict\", X)\n",
      "  File \"C:\\Users\\adhar\\anaconda3\\lib\\site-packages\\sklearn\\metrics\\_scorer.py\", line 71, in _cached_call\n",
      "    return getattr(estimator, method)(*args, **kwargs)\n",
      "  File \"C:\\Users\\adhar\\anaconda3\\lib\\site-packages\\sklearn\\neighbors\\_classification.py\", line 226, in predict\n",
      "    neigh_ind = self.kneighbors(X, return_distance=False)\n",
      "  File \"C:\\Users\\adhar\\anaconda3\\lib\\site-packages\\sklearn\\neighbors\\_base.py\", line 763, in kneighbors\n",
      "    results = PairwiseDistancesArgKmin.compute(\n",
      "  File \"sklearn\\metrics\\_pairwise_distances_reduction.pyx\", line 698, in sklearn.metrics._pairwise_distances_reduction.PairwiseDistancesArgKmin.compute\n",
      "  File \"C:\\Users\\adhar\\anaconda3\\lib\\site-packages\\sklearn\\utils\\fixes.py\", line 151, in threadpool_limits\n",
      "    return threadpoolctl.threadpool_limits(limits=limits, user_api=user_api)\n",
      "  File \"C:\\Users\\adhar\\anaconda3\\lib\\site-packages\\threadpoolctl.py\", line 171, in __init__\n",
      "    self._original_info = self._set_threadpool_limits()\n",
      "  File \"C:\\Users\\adhar\\anaconda3\\lib\\site-packages\\threadpoolctl.py\", line 268, in _set_threadpool_limits\n",
      "    modules = _ThreadpoolInfo(prefixes=self._prefixes,\n",
      "  File \"C:\\Users\\adhar\\anaconda3\\lib\\site-packages\\threadpoolctl.py\", line 340, in __init__\n",
      "    self._load_modules()\n",
      "  File \"C:\\Users\\adhar\\anaconda3\\lib\\site-packages\\threadpoolctl.py\", line 373, in _load_modules\n",
      "    self._find_modules_with_enum_process_module_ex()\n",
      "  File \"C:\\Users\\adhar\\anaconda3\\lib\\site-packages\\threadpoolctl.py\", line 485, in _find_modules_with_enum_process_module_ex\n",
      "    self._make_module_from_path(filepath)\n",
      "  File \"C:\\Users\\adhar\\anaconda3\\lib\\site-packages\\threadpoolctl.py\", line 515, in _make_module_from_path\n",
      "    module = module_class(filepath, prefix, user_api, internal_api)\n",
      "  File \"C:\\Users\\adhar\\anaconda3\\lib\\site-packages\\threadpoolctl.py\", line 606, in __init__\n",
      "    self.version = self.get_version()\n",
      "  File \"C:\\Users\\adhar\\anaconda3\\lib\\site-packages\\threadpoolctl.py\", line 646, in get_version\n",
      "    config = get_config().split()\n",
      "AttributeError: 'NoneType' object has no attribute 'split'\n",
      "\n",
      "  warnings.warn(\n"
     ]
    },
    {
     "name": "stdout",
     "output_type": "stream",
     "text": [
      "K-NN: nan (nan)\n",
      "CART: 0.780458 (0.033727)\n",
      "NB: 0.762049 (0.073144)\n",
      "SVM: 0.830231 (0.043349)\n"
     ]
    }
   ],
   "source": [
    "results = []\n",
    "names = []\n",
    "for name, model in models:\n",
    "    kfold = model_selection.KFold(n_splits=10)\n",
    "    cv_results = model_selection.cross_val_score(model, X_train, y_train, cv=kfold, scoring=scoring)\n",
    "    results.append(cv_results)\n",
    "    names.append(name)\n",
    "    \n",
    "    msg = \"%s: %f (%f)\" % (name, cv_results.mean(), cv_results.std())\n",
    "    print(msg)\n",
    "    "
   ]
  },
  {
   "cell_type": "code",
   "execution_count": 50,
   "id": "040ea40c",
   "metadata": {},
   "outputs": [
    {
     "name": "stderr",
     "output_type": "stream",
     "text": [
      "C:\\Users\\adhar\\anaconda3\\lib\\site-packages\\sklearn\\linear_model\\_logistic.py:444: ConvergenceWarning: lbfgs failed to converge (status=1):\n",
      "STOP: TOTAL NO. of ITERATIONS REACHED LIMIT.\n",
      "\n",
      "Increase the number of iterations (max_iter) or scale the data as shown in:\n",
      "    https://scikit-learn.org/stable/modules/preprocessing.html\n",
      "Please also refer to the documentation for alternative solver options:\n",
      "    https://scikit-learn.org/stable/modules/linear_model.html#logistic-regression\n",
      "  n_iter_i = _check_optimize_result(\n",
      "C:\\Users\\adhar\\anaconda3\\lib\\site-packages\\sklearn\\linear_model\\_logistic.py:444: ConvergenceWarning: lbfgs failed to converge (status=1):\n",
      "STOP: TOTAL NO. of ITERATIONS REACHED LIMIT.\n",
      "\n",
      "Increase the number of iterations (max_iter) or scale the data as shown in:\n",
      "    https://scikit-learn.org/stable/modules/preprocessing.html\n",
      "Please also refer to the documentation for alternative solver options:\n",
      "    https://scikit-learn.org/stable/modules/linear_model.html#logistic-regression\n",
      "  n_iter_i = _check_optimize_result(\n",
      "C:\\Users\\adhar\\anaconda3\\lib\\site-packages\\sklearn\\linear_model\\_logistic.py:444: ConvergenceWarning: lbfgs failed to converge (status=1):\n",
      "STOP: TOTAL NO. of ITERATIONS REACHED LIMIT.\n",
      "\n",
      "Increase the number of iterations (max_iter) or scale the data as shown in:\n",
      "    https://scikit-learn.org/stable/modules/preprocessing.html\n",
      "Please also refer to the documentation for alternative solver options:\n",
      "    https://scikit-learn.org/stable/modules/linear_model.html#logistic-regression\n",
      "  n_iter_i = _check_optimize_result(\n",
      "C:\\Users\\adhar\\anaconda3\\lib\\site-packages\\sklearn\\linear_model\\_logistic.py:444: ConvergenceWarning: lbfgs failed to converge (status=1):\n",
      "STOP: TOTAL NO. of ITERATIONS REACHED LIMIT.\n",
      "\n",
      "Increase the number of iterations (max_iter) or scale the data as shown in:\n",
      "    https://scikit-learn.org/stable/modules/preprocessing.html\n",
      "Please also refer to the documentation for alternative solver options:\n",
      "    https://scikit-learn.org/stable/modules/linear_model.html#logistic-regression\n",
      "  n_iter_i = _check_optimize_result(\n",
      "C:\\Users\\adhar\\anaconda3\\lib\\site-packages\\sklearn\\linear_model\\_logistic.py:444: ConvergenceWarning: lbfgs failed to converge (status=1):\n",
      "STOP: TOTAL NO. of ITERATIONS REACHED LIMIT.\n",
      "\n",
      "Increase the number of iterations (max_iter) or scale the data as shown in:\n",
      "    https://scikit-learn.org/stable/modules/preprocessing.html\n",
      "Please also refer to the documentation for alternative solver options:\n",
      "    https://scikit-learn.org/stable/modules/linear_model.html#logistic-regression\n",
      "  n_iter_i = _check_optimize_result(\n",
      "C:\\Users\\adhar\\anaconda3\\lib\\site-packages\\sklearn\\linear_model\\_logistic.py:444: ConvergenceWarning: lbfgs failed to converge (status=1):\n",
      "STOP: TOTAL NO. of ITERATIONS REACHED LIMIT.\n",
      "\n",
      "Increase the number of iterations (max_iter) or scale the data as shown in:\n",
      "    https://scikit-learn.org/stable/modules/preprocessing.html\n",
      "Please also refer to the documentation for alternative solver options:\n",
      "    https://scikit-learn.org/stable/modules/linear_model.html#logistic-regression\n",
      "  n_iter_i = _check_optimize_result(\n",
      "C:\\Users\\adhar\\anaconda3\\lib\\site-packages\\sklearn\\linear_model\\_logistic.py:444: ConvergenceWarning: lbfgs failed to converge (status=1):\n",
      "STOP: TOTAL NO. of ITERATIONS REACHED LIMIT.\n",
      "\n",
      "Increase the number of iterations (max_iter) or scale the data as shown in:\n",
      "    https://scikit-learn.org/stable/modules/preprocessing.html\n",
      "Please also refer to the documentation for alternative solver options:\n",
      "    https://scikit-learn.org/stable/modules/linear_model.html#logistic-regression\n",
      "  n_iter_i = _check_optimize_result(\n",
      "C:\\Users\\adhar\\anaconda3\\lib\\site-packages\\sklearn\\linear_model\\_logistic.py:444: ConvergenceWarning: lbfgs failed to converge (status=1):\n",
      "STOP: TOTAL NO. of ITERATIONS REACHED LIMIT.\n",
      "\n",
      "Increase the number of iterations (max_iter) or scale the data as shown in:\n",
      "    https://scikit-learn.org/stable/modules/preprocessing.html\n",
      "Please also refer to the documentation for alternative solver options:\n",
      "    https://scikit-learn.org/stable/modules/linear_model.html#logistic-regression\n",
      "  n_iter_i = _check_optimize_result(\n",
      "C:\\Users\\adhar\\anaconda3\\lib\\site-packages\\sklearn\\linear_model\\_logistic.py:444: ConvergenceWarning: lbfgs failed to converge (status=1):\n",
      "STOP: TOTAL NO. of ITERATIONS REACHED LIMIT.\n",
      "\n",
      "Increase the number of iterations (max_iter) or scale the data as shown in:\n",
      "    https://scikit-learn.org/stable/modules/preprocessing.html\n",
      "Please also refer to the documentation for alternative solver options:\n",
      "    https://scikit-learn.org/stable/modules/linear_model.html#logistic-regression\n",
      "  n_iter_i = _check_optimize_result(\n",
      "C:\\Users\\adhar\\anaconda3\\lib\\site-packages\\sklearn\\linear_model\\_logistic.py:444: ConvergenceWarning: lbfgs failed to converge (status=1):\n",
      "STOP: TOTAL NO. of ITERATIONS REACHED LIMIT.\n",
      "\n",
      "Increase the number of iterations (max_iter) or scale the data as shown in:\n",
      "    https://scikit-learn.org/stable/modules/preprocessing.html\n",
      "Please also refer to the documentation for alternative solver options:\n",
      "    https://scikit-learn.org/stable/modules/linear_model.html#logistic-regression\n",
      "  n_iter_i = _check_optimize_result(\n",
      "C:\\Users\\adhar\\anaconda3\\lib\\site-packages\\sklearn\\model_selection\\_validation.py:776: UserWarning: Scoring failed. The score on this train-test partition for these parameters will be set to nan. Details: \n",
      "Traceback (most recent call last):\n",
      "  File \"C:\\Users\\adhar\\anaconda3\\lib\\site-packages\\sklearn\\model_selection\\_validation.py\", line 767, in _score\n",
      "    scores = scorer(estimator, X_test, y_test)\n",
      "  File \"C:\\Users\\adhar\\anaconda3\\lib\\site-packages\\sklearn\\metrics\\_scorer.py\", line 106, in __call__\n",
      "    score = scorer._score(cached_call, estimator, *args, **kwargs)\n",
      "  File \"C:\\Users\\adhar\\anaconda3\\lib\\site-packages\\sklearn\\metrics\\_scorer.py\", line 261, in _score\n",
      "    y_pred = method_caller(estimator, \"predict\", X)\n",
      "  File \"C:\\Users\\adhar\\anaconda3\\lib\\site-packages\\sklearn\\metrics\\_scorer.py\", line 71, in _cached_call\n",
      "    return getattr(estimator, method)(*args, **kwargs)\n",
      "  File \"C:\\Users\\adhar\\anaconda3\\lib\\site-packages\\sklearn\\neighbors\\_classification.py\", line 226, in predict\n",
      "    neigh_ind = self.kneighbors(X, return_distance=False)\n",
      "  File \"C:\\Users\\adhar\\anaconda3\\lib\\site-packages\\sklearn\\neighbors\\_base.py\", line 763, in kneighbors\n",
      "    results = PairwiseDistancesArgKmin.compute(\n",
      "  File \"sklearn\\metrics\\_pairwise_distances_reduction.pyx\", line 698, in sklearn.metrics._pairwise_distances_reduction.PairwiseDistancesArgKmin.compute\n",
      "  File \"C:\\Users\\adhar\\anaconda3\\lib\\site-packages\\sklearn\\utils\\fixes.py\", line 151, in threadpool_limits\n",
      "    return threadpoolctl.threadpool_limits(limits=limits, user_api=user_api)\n",
      "  File \"C:\\Users\\adhar\\anaconda3\\lib\\site-packages\\threadpoolctl.py\", line 171, in __init__\n",
      "    self._original_info = self._set_threadpool_limits()\n",
      "  File \"C:\\Users\\adhar\\anaconda3\\lib\\site-packages\\threadpoolctl.py\", line 268, in _set_threadpool_limits\n",
      "    modules = _ThreadpoolInfo(prefixes=self._prefixes,\n",
      "  File \"C:\\Users\\adhar\\anaconda3\\lib\\site-packages\\threadpoolctl.py\", line 340, in __init__\n",
      "    self._load_modules()\n",
      "  File \"C:\\Users\\adhar\\anaconda3\\lib\\site-packages\\threadpoolctl.py\", line 373, in _load_modules\n",
      "    self._find_modules_with_enum_process_module_ex()\n",
      "  File \"C:\\Users\\adhar\\anaconda3\\lib\\site-packages\\threadpoolctl.py\", line 485, in _find_modules_with_enum_process_module_ex\n",
      "    self._make_module_from_path(filepath)\n",
      "  File \"C:\\Users\\adhar\\anaconda3\\lib\\site-packages\\threadpoolctl.py\", line 515, in _make_module_from_path\n",
      "    module = module_class(filepath, prefix, user_api, internal_api)\n",
      "  File \"C:\\Users\\adhar\\anaconda3\\lib\\site-packages\\threadpoolctl.py\", line 606, in __init__\n",
      "    self.version = self.get_version()\n",
      "  File \"C:\\Users\\adhar\\anaconda3\\lib\\site-packages\\threadpoolctl.py\", line 646, in get_version\n",
      "    config = get_config().split()\n",
      "AttributeError: 'NoneType' object has no attribute 'split'\n",
      "\n",
      "  warnings.warn(\n",
      "C:\\Users\\adhar\\anaconda3\\lib\\site-packages\\sklearn\\model_selection\\_validation.py:776: UserWarning: Scoring failed. The score on this train-test partition for these parameters will be set to nan. Details: \n",
      "Traceback (most recent call last):\n",
      "  File \"C:\\Users\\adhar\\anaconda3\\lib\\site-packages\\sklearn\\model_selection\\_validation.py\", line 767, in _score\n",
      "    scores = scorer(estimator, X_test, y_test)\n",
      "  File \"C:\\Users\\adhar\\anaconda3\\lib\\site-packages\\sklearn\\metrics\\_scorer.py\", line 106, in __call__\n",
      "    score = scorer._score(cached_call, estimator, *args, **kwargs)\n",
      "  File \"C:\\Users\\adhar\\anaconda3\\lib\\site-packages\\sklearn\\metrics\\_scorer.py\", line 261, in _score\n",
      "    y_pred = method_caller(estimator, \"predict\", X)\n",
      "  File \"C:\\Users\\adhar\\anaconda3\\lib\\site-packages\\sklearn\\metrics\\_scorer.py\", line 71, in _cached_call\n",
      "    return getattr(estimator, method)(*args, **kwargs)\n",
      "  File \"C:\\Users\\adhar\\anaconda3\\lib\\site-packages\\sklearn\\neighbors\\_classification.py\", line 226, in predict\n",
      "    neigh_ind = self.kneighbors(X, return_distance=False)\n",
      "  File \"C:\\Users\\adhar\\anaconda3\\lib\\site-packages\\sklearn\\neighbors\\_base.py\", line 763, in kneighbors\n",
      "    results = PairwiseDistancesArgKmin.compute(\n",
      "  File \"sklearn\\metrics\\_pairwise_distances_reduction.pyx\", line 698, in sklearn.metrics._pairwise_distances_reduction.PairwiseDistancesArgKmin.compute\n",
      "  File \"C:\\Users\\adhar\\anaconda3\\lib\\site-packages\\sklearn\\utils\\fixes.py\", line 151, in threadpool_limits\n",
      "    return threadpoolctl.threadpool_limits(limits=limits, user_api=user_api)\n",
      "  File \"C:\\Users\\adhar\\anaconda3\\lib\\site-packages\\threadpoolctl.py\", line 171, in __init__\n",
      "    self._original_info = self._set_threadpool_limits()\n",
      "  File \"C:\\Users\\adhar\\anaconda3\\lib\\site-packages\\threadpoolctl.py\", line 268, in _set_threadpool_limits\n",
      "    modules = _ThreadpoolInfo(prefixes=self._prefixes,\n",
      "  File \"C:\\Users\\adhar\\anaconda3\\lib\\site-packages\\threadpoolctl.py\", line 340, in __init__\n",
      "    self._load_modules()\n",
      "  File \"C:\\Users\\adhar\\anaconda3\\lib\\site-packages\\threadpoolctl.py\", line 373, in _load_modules\n",
      "    self._find_modules_with_enum_process_module_ex()\n",
      "  File \"C:\\Users\\adhar\\anaconda3\\lib\\site-packages\\threadpoolctl.py\", line 485, in _find_modules_with_enum_process_module_ex\n",
      "    self._make_module_from_path(filepath)\n",
      "  File \"C:\\Users\\adhar\\anaconda3\\lib\\site-packages\\threadpoolctl.py\", line 515, in _make_module_from_path\n",
      "    module = module_class(filepath, prefix, user_api, internal_api)\n",
      "  File \"C:\\Users\\adhar\\anaconda3\\lib\\site-packages\\threadpoolctl.py\", line 606, in __init__\n",
      "    self.version = self.get_version()\n",
      "  File \"C:\\Users\\adhar\\anaconda3\\lib\\site-packages\\threadpoolctl.py\", line 646, in get_version\n",
      "    config = get_config().split()\n",
      "AttributeError: 'NoneType' object has no attribute 'split'\n",
      "\n",
      "  warnings.warn(\n",
      "C:\\Users\\adhar\\anaconda3\\lib\\site-packages\\sklearn\\model_selection\\_validation.py:776: UserWarning: Scoring failed. The score on this train-test partition for these parameters will be set to nan. Details: \n",
      "Traceback (most recent call last):\n",
      "  File \"C:\\Users\\adhar\\anaconda3\\lib\\site-packages\\sklearn\\model_selection\\_validation.py\", line 767, in _score\n",
      "    scores = scorer(estimator, X_test, y_test)\n",
      "  File \"C:\\Users\\adhar\\anaconda3\\lib\\site-packages\\sklearn\\metrics\\_scorer.py\", line 106, in __call__\n",
      "    score = scorer._score(cached_call, estimator, *args, **kwargs)\n",
      "  File \"C:\\Users\\adhar\\anaconda3\\lib\\site-packages\\sklearn\\metrics\\_scorer.py\", line 261, in _score\n",
      "    y_pred = method_caller(estimator, \"predict\", X)\n",
      "  File \"C:\\Users\\adhar\\anaconda3\\lib\\site-packages\\sklearn\\metrics\\_scorer.py\", line 71, in _cached_call\n",
      "    return getattr(estimator, method)(*args, **kwargs)\n",
      "  File \"C:\\Users\\adhar\\anaconda3\\lib\\site-packages\\sklearn\\neighbors\\_classification.py\", line 226, in predict\n",
      "    neigh_ind = self.kneighbors(X, return_distance=False)\n",
      "  File \"C:\\Users\\adhar\\anaconda3\\lib\\site-packages\\sklearn\\neighbors\\_base.py\", line 763, in kneighbors\n",
      "    results = PairwiseDistancesArgKmin.compute(\n",
      "  File \"sklearn\\metrics\\_pairwise_distances_reduction.pyx\", line 698, in sklearn.metrics._pairwise_distances_reduction.PairwiseDistancesArgKmin.compute\n",
      "  File \"C:\\Users\\adhar\\anaconda3\\lib\\site-packages\\sklearn\\utils\\fixes.py\", line 151, in threadpool_limits\n",
      "    return threadpoolctl.threadpool_limits(limits=limits, user_api=user_api)\n",
      "  File \"C:\\Users\\adhar\\anaconda3\\lib\\site-packages\\threadpoolctl.py\", line 171, in __init__\n",
      "    self._original_info = self._set_threadpool_limits()\n",
      "  File \"C:\\Users\\adhar\\anaconda3\\lib\\site-packages\\threadpoolctl.py\", line 268, in _set_threadpool_limits\n",
      "    modules = _ThreadpoolInfo(prefixes=self._prefixes,\n",
      "  File \"C:\\Users\\adhar\\anaconda3\\lib\\site-packages\\threadpoolctl.py\", line 340, in __init__\n",
      "    self._load_modules()\n",
      "  File \"C:\\Users\\adhar\\anaconda3\\lib\\site-packages\\threadpoolctl.py\", line 373, in _load_modules\n",
      "    self._find_modules_with_enum_process_module_ex()\n",
      "  File \"C:\\Users\\adhar\\anaconda3\\lib\\site-packages\\threadpoolctl.py\", line 485, in _find_modules_with_enum_process_module_ex\n",
      "    self._make_module_from_path(filepath)\n",
      "  File \"C:\\Users\\adhar\\anaconda3\\lib\\site-packages\\threadpoolctl.py\", line 515, in _make_module_from_path\n",
      "    module = module_class(filepath, prefix, user_api, internal_api)\n",
      "  File \"C:\\Users\\adhar\\anaconda3\\lib\\site-packages\\threadpoolctl.py\", line 606, in __init__\n",
      "    self.version = self.get_version()\n",
      "  File \"C:\\Users\\adhar\\anaconda3\\lib\\site-packages\\threadpoolctl.py\", line 646, in get_version\n",
      "    config = get_config().split()\n",
      "AttributeError: 'NoneType' object has no attribute 'split'\n",
      "\n",
      "  warnings.warn(\n",
      "C:\\Users\\adhar\\anaconda3\\lib\\site-packages\\sklearn\\model_selection\\_validation.py:776: UserWarning: Scoring failed. The score on this train-test partition for these parameters will be set to nan. Details: \n",
      "Traceback (most recent call last):\n",
      "  File \"C:\\Users\\adhar\\anaconda3\\lib\\site-packages\\sklearn\\model_selection\\_validation.py\", line 767, in _score\n",
      "    scores = scorer(estimator, X_test, y_test)\n",
      "  File \"C:\\Users\\adhar\\anaconda3\\lib\\site-packages\\sklearn\\metrics\\_scorer.py\", line 106, in __call__\n",
      "    score = scorer._score(cached_call, estimator, *args, **kwargs)\n",
      "  File \"C:\\Users\\adhar\\anaconda3\\lib\\site-packages\\sklearn\\metrics\\_scorer.py\", line 261, in _score\n",
      "    y_pred = method_caller(estimator, \"predict\", X)\n",
      "  File \"C:\\Users\\adhar\\anaconda3\\lib\\site-packages\\sklearn\\metrics\\_scorer.py\", line 71, in _cached_call\n",
      "    return getattr(estimator, method)(*args, **kwargs)\n",
      "  File \"C:\\Users\\adhar\\anaconda3\\lib\\site-packages\\sklearn\\neighbors\\_classification.py\", line 226, in predict\n",
      "    neigh_ind = self.kneighbors(X, return_distance=False)\n",
      "  File \"C:\\Users\\adhar\\anaconda3\\lib\\site-packages\\sklearn\\neighbors\\_base.py\", line 763, in kneighbors\n",
      "    results = PairwiseDistancesArgKmin.compute(\n",
      "  File \"sklearn\\metrics\\_pairwise_distances_reduction.pyx\", line 698, in sklearn.metrics._pairwise_distances_reduction.PairwiseDistancesArgKmin.compute\n",
      "  File \"C:\\Users\\adhar\\anaconda3\\lib\\site-packages\\sklearn\\utils\\fixes.py\", line 151, in threadpool_limits\n",
      "    return threadpoolctl.threadpool_limits(limits=limits, user_api=user_api)\n",
      "  File \"C:\\Users\\adhar\\anaconda3\\lib\\site-packages\\threadpoolctl.py\", line 171, in __init__\n",
      "    self._original_info = self._set_threadpool_limits()\n",
      "  File \"C:\\Users\\adhar\\anaconda3\\lib\\site-packages\\threadpoolctl.py\", line 268, in _set_threadpool_limits\n",
      "    modules = _ThreadpoolInfo(prefixes=self._prefixes,\n",
      "  File \"C:\\Users\\adhar\\anaconda3\\lib\\site-packages\\threadpoolctl.py\", line 340, in __init__\n",
      "    self._load_modules()\n",
      "  File \"C:\\Users\\adhar\\anaconda3\\lib\\site-packages\\threadpoolctl.py\", line 373, in _load_modules\n",
      "    self._find_modules_with_enum_process_module_ex()\n",
      "  File \"C:\\Users\\adhar\\anaconda3\\lib\\site-packages\\threadpoolctl.py\", line 485, in _find_modules_with_enum_process_module_ex\n",
      "    self._make_module_from_path(filepath)\n",
      "  File \"C:\\Users\\adhar\\anaconda3\\lib\\site-packages\\threadpoolctl.py\", line 515, in _make_module_from_path\n",
      "    module = module_class(filepath, prefix, user_api, internal_api)\n",
      "  File \"C:\\Users\\adhar\\anaconda3\\lib\\site-packages\\threadpoolctl.py\", line 606, in __init__\n",
      "    self.version = self.get_version()\n",
      "  File \"C:\\Users\\adhar\\anaconda3\\lib\\site-packages\\threadpoolctl.py\", line 646, in get_version\n",
      "    config = get_config().split()\n",
      "AttributeError: 'NoneType' object has no attribute 'split'\n",
      "\n",
      "  warnings.warn(\n",
      "C:\\Users\\adhar\\anaconda3\\lib\\site-packages\\sklearn\\model_selection\\_validation.py:776: UserWarning: Scoring failed. The score on this train-test partition for these parameters will be set to nan. Details: \n",
      "Traceback (most recent call last):\n",
      "  File \"C:\\Users\\adhar\\anaconda3\\lib\\site-packages\\sklearn\\model_selection\\_validation.py\", line 767, in _score\n",
      "    scores = scorer(estimator, X_test, y_test)\n",
      "  File \"C:\\Users\\adhar\\anaconda3\\lib\\site-packages\\sklearn\\metrics\\_scorer.py\", line 106, in __call__\n",
      "    score = scorer._score(cached_call, estimator, *args, **kwargs)\n",
      "  File \"C:\\Users\\adhar\\anaconda3\\lib\\site-packages\\sklearn\\metrics\\_scorer.py\", line 261, in _score\n",
      "    y_pred = method_caller(estimator, \"predict\", X)\n",
      "  File \"C:\\Users\\adhar\\anaconda3\\lib\\site-packages\\sklearn\\metrics\\_scorer.py\", line 71, in _cached_call\n",
      "    return getattr(estimator, method)(*args, **kwargs)\n",
      "  File \"C:\\Users\\adhar\\anaconda3\\lib\\site-packages\\sklearn\\neighbors\\_classification.py\", line 226, in predict\n",
      "    neigh_ind = self.kneighbors(X, return_distance=False)\n",
      "  File \"C:\\Users\\adhar\\anaconda3\\lib\\site-packages\\sklearn\\neighbors\\_base.py\", line 763, in kneighbors\n",
      "    results = PairwiseDistancesArgKmin.compute(\n",
      "  File \"sklearn\\metrics\\_pairwise_distances_reduction.pyx\", line 698, in sklearn.metrics._pairwise_distances_reduction.PairwiseDistancesArgKmin.compute\n",
      "  File \"C:\\Users\\adhar\\anaconda3\\lib\\site-packages\\sklearn\\utils\\fixes.py\", line 151, in threadpool_limits\n",
      "    return threadpoolctl.threadpool_limits(limits=limits, user_api=user_api)\n",
      "  File \"C:\\Users\\adhar\\anaconda3\\lib\\site-packages\\threadpoolctl.py\", line 171, in __init__\n",
      "    self._original_info = self._set_threadpool_limits()\n",
      "  File \"C:\\Users\\adhar\\anaconda3\\lib\\site-packages\\threadpoolctl.py\", line 268, in _set_threadpool_limits\n",
      "    modules = _ThreadpoolInfo(prefixes=self._prefixes,\n",
      "  File \"C:\\Users\\adhar\\anaconda3\\lib\\site-packages\\threadpoolctl.py\", line 340, in __init__\n",
      "    self._load_modules()\n",
      "  File \"C:\\Users\\adhar\\anaconda3\\lib\\site-packages\\threadpoolctl.py\", line 373, in _load_modules\n",
      "    self._find_modules_with_enum_process_module_ex()\n",
      "  File \"C:\\Users\\adhar\\anaconda3\\lib\\site-packages\\threadpoolctl.py\", line 485, in _find_modules_with_enum_process_module_ex\n",
      "    self._make_module_from_path(filepath)\n",
      "  File \"C:\\Users\\adhar\\anaconda3\\lib\\site-packages\\threadpoolctl.py\", line 515, in _make_module_from_path\n",
      "    module = module_class(filepath, prefix, user_api, internal_api)\n",
      "  File \"C:\\Users\\adhar\\anaconda3\\lib\\site-packages\\threadpoolctl.py\", line 606, in __init__\n",
      "    self.version = self.get_version()\n",
      "  File \"C:\\Users\\adhar\\anaconda3\\lib\\site-packages\\threadpoolctl.py\", line 646, in get_version\n",
      "    config = get_config().split()\n",
      "AttributeError: 'NoneType' object has no attribute 'split'\n",
      "\n",
      "  warnings.warn(\n"
     ]
    },
    {
     "name": "stdout",
     "output_type": "stream",
     "text": [
      "LR: 0.830241 (0.039556)\n",
      "LDA: 0.852566 (0.041909)\n",
      "K-NN: nan (nan)\n"
     ]
    },
    {
     "name": "stderr",
     "output_type": "stream",
     "text": [
      "C:\\Users\\adhar\\anaconda3\\lib\\site-packages\\sklearn\\model_selection\\_validation.py:776: UserWarning: Scoring failed. The score on this train-test partition for these parameters will be set to nan. Details: \n",
      "Traceback (most recent call last):\n",
      "  File \"C:\\Users\\adhar\\anaconda3\\lib\\site-packages\\sklearn\\model_selection\\_validation.py\", line 767, in _score\n",
      "    scores = scorer(estimator, X_test, y_test)\n",
      "  File \"C:\\Users\\adhar\\anaconda3\\lib\\site-packages\\sklearn\\metrics\\_scorer.py\", line 106, in __call__\n",
      "    score = scorer._score(cached_call, estimator, *args, **kwargs)\n",
      "  File \"C:\\Users\\adhar\\anaconda3\\lib\\site-packages\\sklearn\\metrics\\_scorer.py\", line 261, in _score\n",
      "    y_pred = method_caller(estimator, \"predict\", X)\n",
      "  File \"C:\\Users\\adhar\\anaconda3\\lib\\site-packages\\sklearn\\metrics\\_scorer.py\", line 71, in _cached_call\n",
      "    return getattr(estimator, method)(*args, **kwargs)\n",
      "  File \"C:\\Users\\adhar\\anaconda3\\lib\\site-packages\\sklearn\\neighbors\\_classification.py\", line 226, in predict\n",
      "    neigh_ind = self.kneighbors(X, return_distance=False)\n",
      "  File \"C:\\Users\\adhar\\anaconda3\\lib\\site-packages\\sklearn\\neighbors\\_base.py\", line 763, in kneighbors\n",
      "    results = PairwiseDistancesArgKmin.compute(\n",
      "  File \"sklearn\\metrics\\_pairwise_distances_reduction.pyx\", line 698, in sklearn.metrics._pairwise_distances_reduction.PairwiseDistancesArgKmin.compute\n",
      "  File \"C:\\Users\\adhar\\anaconda3\\lib\\site-packages\\sklearn\\utils\\fixes.py\", line 151, in threadpool_limits\n",
      "    return threadpoolctl.threadpool_limits(limits=limits, user_api=user_api)\n",
      "  File \"C:\\Users\\adhar\\anaconda3\\lib\\site-packages\\threadpoolctl.py\", line 171, in __init__\n",
      "    self._original_info = self._set_threadpool_limits()\n",
      "  File \"C:\\Users\\adhar\\anaconda3\\lib\\site-packages\\threadpoolctl.py\", line 268, in _set_threadpool_limits\n",
      "    modules = _ThreadpoolInfo(prefixes=self._prefixes,\n",
      "  File \"C:\\Users\\adhar\\anaconda3\\lib\\site-packages\\threadpoolctl.py\", line 340, in __init__\n",
      "    self._load_modules()\n",
      "  File \"C:\\Users\\adhar\\anaconda3\\lib\\site-packages\\threadpoolctl.py\", line 373, in _load_modules\n",
      "    self._find_modules_with_enum_process_module_ex()\n",
      "  File \"C:\\Users\\adhar\\anaconda3\\lib\\site-packages\\threadpoolctl.py\", line 485, in _find_modules_with_enum_process_module_ex\n",
      "    self._make_module_from_path(filepath)\n",
      "  File \"C:\\Users\\adhar\\anaconda3\\lib\\site-packages\\threadpoolctl.py\", line 515, in _make_module_from_path\n",
      "    module = module_class(filepath, prefix, user_api, internal_api)\n",
      "  File \"C:\\Users\\adhar\\anaconda3\\lib\\site-packages\\threadpoolctl.py\", line 606, in __init__\n",
      "    self.version = self.get_version()\n",
      "  File \"C:\\Users\\adhar\\anaconda3\\lib\\site-packages\\threadpoolctl.py\", line 646, in get_version\n",
      "    config = get_config().split()\n",
      "AttributeError: 'NoneType' object has no attribute 'split'\n",
      "\n",
      "  warnings.warn(\n",
      "C:\\Users\\adhar\\anaconda3\\lib\\site-packages\\sklearn\\model_selection\\_validation.py:776: UserWarning: Scoring failed. The score on this train-test partition for these parameters will be set to nan. Details: \n",
      "Traceback (most recent call last):\n",
      "  File \"C:\\Users\\adhar\\anaconda3\\lib\\site-packages\\sklearn\\model_selection\\_validation.py\", line 767, in _score\n",
      "    scores = scorer(estimator, X_test, y_test)\n",
      "  File \"C:\\Users\\adhar\\anaconda3\\lib\\site-packages\\sklearn\\metrics\\_scorer.py\", line 106, in __call__\n",
      "    score = scorer._score(cached_call, estimator, *args, **kwargs)\n",
      "  File \"C:\\Users\\adhar\\anaconda3\\lib\\site-packages\\sklearn\\metrics\\_scorer.py\", line 261, in _score\n",
      "    y_pred = method_caller(estimator, \"predict\", X)\n",
      "  File \"C:\\Users\\adhar\\anaconda3\\lib\\site-packages\\sklearn\\metrics\\_scorer.py\", line 71, in _cached_call\n",
      "    return getattr(estimator, method)(*args, **kwargs)\n",
      "  File \"C:\\Users\\adhar\\anaconda3\\lib\\site-packages\\sklearn\\neighbors\\_classification.py\", line 226, in predict\n",
      "    neigh_ind = self.kneighbors(X, return_distance=False)\n",
      "  File \"C:\\Users\\adhar\\anaconda3\\lib\\site-packages\\sklearn\\neighbors\\_base.py\", line 763, in kneighbors\n",
      "    results = PairwiseDistancesArgKmin.compute(\n",
      "  File \"sklearn\\metrics\\_pairwise_distances_reduction.pyx\", line 698, in sklearn.metrics._pairwise_distances_reduction.PairwiseDistancesArgKmin.compute\n",
      "  File \"C:\\Users\\adhar\\anaconda3\\lib\\site-packages\\sklearn\\utils\\fixes.py\", line 151, in threadpool_limits\n",
      "    return threadpoolctl.threadpool_limits(limits=limits, user_api=user_api)\n",
      "  File \"C:\\Users\\adhar\\anaconda3\\lib\\site-packages\\threadpoolctl.py\", line 171, in __init__\n",
      "    self._original_info = self._set_threadpool_limits()\n",
      "  File \"C:\\Users\\adhar\\anaconda3\\lib\\site-packages\\threadpoolctl.py\", line 268, in _set_threadpool_limits\n",
      "    modules = _ThreadpoolInfo(prefixes=self._prefixes,\n",
      "  File \"C:\\Users\\adhar\\anaconda3\\lib\\site-packages\\threadpoolctl.py\", line 340, in __init__\n",
      "    self._load_modules()\n",
      "  File \"C:\\Users\\adhar\\anaconda3\\lib\\site-packages\\threadpoolctl.py\", line 373, in _load_modules\n",
      "    self._find_modules_with_enum_process_module_ex()\n",
      "  File \"C:\\Users\\adhar\\anaconda3\\lib\\site-packages\\threadpoolctl.py\", line 485, in _find_modules_with_enum_process_module_ex\n",
      "    self._make_module_from_path(filepath)\n",
      "  File \"C:\\Users\\adhar\\anaconda3\\lib\\site-packages\\threadpoolctl.py\", line 515, in _make_module_from_path\n",
      "    module = module_class(filepath, prefix, user_api, internal_api)\n",
      "  File \"C:\\Users\\adhar\\anaconda3\\lib\\site-packages\\threadpoolctl.py\", line 606, in __init__\n",
      "    self.version = self.get_version()\n",
      "  File \"C:\\Users\\adhar\\anaconda3\\lib\\site-packages\\threadpoolctl.py\", line 646, in get_version\n",
      "    config = get_config().split()\n",
      "AttributeError: 'NoneType' object has no attribute 'split'\n",
      "\n",
      "  warnings.warn(\n",
      "C:\\Users\\adhar\\anaconda3\\lib\\site-packages\\sklearn\\model_selection\\_validation.py:776: UserWarning: Scoring failed. The score on this train-test partition for these parameters will be set to nan. Details: \n",
      "Traceback (most recent call last):\n",
      "  File \"C:\\Users\\adhar\\anaconda3\\lib\\site-packages\\sklearn\\model_selection\\_validation.py\", line 767, in _score\n",
      "    scores = scorer(estimator, X_test, y_test)\n",
      "  File \"C:\\Users\\adhar\\anaconda3\\lib\\site-packages\\sklearn\\metrics\\_scorer.py\", line 106, in __call__\n",
      "    score = scorer._score(cached_call, estimator, *args, **kwargs)\n",
      "  File \"C:\\Users\\adhar\\anaconda3\\lib\\site-packages\\sklearn\\metrics\\_scorer.py\", line 261, in _score\n",
      "    y_pred = method_caller(estimator, \"predict\", X)\n",
      "  File \"C:\\Users\\adhar\\anaconda3\\lib\\site-packages\\sklearn\\metrics\\_scorer.py\", line 71, in _cached_call\n",
      "    return getattr(estimator, method)(*args, **kwargs)\n",
      "  File \"C:\\Users\\adhar\\anaconda3\\lib\\site-packages\\sklearn\\neighbors\\_classification.py\", line 226, in predict\n",
      "    neigh_ind = self.kneighbors(X, return_distance=False)\n",
      "  File \"C:\\Users\\adhar\\anaconda3\\lib\\site-packages\\sklearn\\neighbors\\_base.py\", line 763, in kneighbors\n",
      "    results = PairwiseDistancesArgKmin.compute(\n",
      "  File \"sklearn\\metrics\\_pairwise_distances_reduction.pyx\", line 698, in sklearn.metrics._pairwise_distances_reduction.PairwiseDistancesArgKmin.compute\n",
      "  File \"C:\\Users\\adhar\\anaconda3\\lib\\site-packages\\sklearn\\utils\\fixes.py\", line 151, in threadpool_limits\n",
      "    return threadpoolctl.threadpool_limits(limits=limits, user_api=user_api)\n",
      "  File \"C:\\Users\\adhar\\anaconda3\\lib\\site-packages\\threadpoolctl.py\", line 171, in __init__\n",
      "    self._original_info = self._set_threadpool_limits()\n",
      "  File \"C:\\Users\\adhar\\anaconda3\\lib\\site-packages\\threadpoolctl.py\", line 268, in _set_threadpool_limits\n",
      "    modules = _ThreadpoolInfo(prefixes=self._prefixes,\n",
      "  File \"C:\\Users\\adhar\\anaconda3\\lib\\site-packages\\threadpoolctl.py\", line 340, in __init__\n",
      "    self._load_modules()\n",
      "  File \"C:\\Users\\adhar\\anaconda3\\lib\\site-packages\\threadpoolctl.py\", line 373, in _load_modules\n",
      "    self._find_modules_with_enum_process_module_ex()\n",
      "  File \"C:\\Users\\adhar\\anaconda3\\lib\\site-packages\\threadpoolctl.py\", line 485, in _find_modules_with_enum_process_module_ex\n",
      "    self._make_module_from_path(filepath)\n",
      "  File \"C:\\Users\\adhar\\anaconda3\\lib\\site-packages\\threadpoolctl.py\", line 515, in _make_module_from_path\n",
      "    module = module_class(filepath, prefix, user_api, internal_api)\n",
      "  File \"C:\\Users\\adhar\\anaconda3\\lib\\site-packages\\threadpoolctl.py\", line 606, in __init__\n",
      "    self.version = self.get_version()\n",
      "  File \"C:\\Users\\adhar\\anaconda3\\lib\\site-packages\\threadpoolctl.py\", line 646, in get_version\n",
      "    config = get_config().split()\n",
      "AttributeError: 'NoneType' object has no attribute 'split'\n",
      "\n",
      "  warnings.warn(\n",
      "C:\\Users\\adhar\\anaconda3\\lib\\site-packages\\sklearn\\model_selection\\_validation.py:776: UserWarning: Scoring failed. The score on this train-test partition for these parameters will be set to nan. Details: \n",
      "Traceback (most recent call last):\n",
      "  File \"C:\\Users\\adhar\\anaconda3\\lib\\site-packages\\sklearn\\model_selection\\_validation.py\", line 767, in _score\n",
      "    scores = scorer(estimator, X_test, y_test)\n",
      "  File \"C:\\Users\\adhar\\anaconda3\\lib\\site-packages\\sklearn\\metrics\\_scorer.py\", line 106, in __call__\n",
      "    score = scorer._score(cached_call, estimator, *args, **kwargs)\n",
      "  File \"C:\\Users\\adhar\\anaconda3\\lib\\site-packages\\sklearn\\metrics\\_scorer.py\", line 261, in _score\n",
      "    y_pred = method_caller(estimator, \"predict\", X)\n",
      "  File \"C:\\Users\\adhar\\anaconda3\\lib\\site-packages\\sklearn\\metrics\\_scorer.py\", line 71, in _cached_call\n",
      "    return getattr(estimator, method)(*args, **kwargs)\n",
      "  File \"C:\\Users\\adhar\\anaconda3\\lib\\site-packages\\sklearn\\neighbors\\_classification.py\", line 226, in predict\n",
      "    neigh_ind = self.kneighbors(X, return_distance=False)\n",
      "  File \"C:\\Users\\adhar\\anaconda3\\lib\\site-packages\\sklearn\\neighbors\\_base.py\", line 763, in kneighbors\n",
      "    results = PairwiseDistancesArgKmin.compute(\n",
      "  File \"sklearn\\metrics\\_pairwise_distances_reduction.pyx\", line 698, in sklearn.metrics._pairwise_distances_reduction.PairwiseDistancesArgKmin.compute\n",
      "  File \"C:\\Users\\adhar\\anaconda3\\lib\\site-packages\\sklearn\\utils\\fixes.py\", line 151, in threadpool_limits\n",
      "    return threadpoolctl.threadpool_limits(limits=limits, user_api=user_api)\n",
      "  File \"C:\\Users\\adhar\\anaconda3\\lib\\site-packages\\threadpoolctl.py\", line 171, in __init__\n",
      "    self._original_info = self._set_threadpool_limits()\n",
      "  File \"C:\\Users\\adhar\\anaconda3\\lib\\site-packages\\threadpoolctl.py\", line 268, in _set_threadpool_limits\n",
      "    modules = _ThreadpoolInfo(prefixes=self._prefixes,\n",
      "  File \"C:\\Users\\adhar\\anaconda3\\lib\\site-packages\\threadpoolctl.py\", line 340, in __init__\n",
      "    self._load_modules()\n",
      "  File \"C:\\Users\\adhar\\anaconda3\\lib\\site-packages\\threadpoolctl.py\", line 373, in _load_modules\n",
      "    self._find_modules_with_enum_process_module_ex()\n",
      "  File \"C:\\Users\\adhar\\anaconda3\\lib\\site-packages\\threadpoolctl.py\", line 485, in _find_modules_with_enum_process_module_ex\n",
      "    self._make_module_from_path(filepath)\n",
      "  File \"C:\\Users\\adhar\\anaconda3\\lib\\site-packages\\threadpoolctl.py\", line 515, in _make_module_from_path\n",
      "    module = module_class(filepath, prefix, user_api, internal_api)\n",
      "  File \"C:\\Users\\adhar\\anaconda3\\lib\\site-packages\\threadpoolctl.py\", line 606, in __init__\n",
      "    self.version = self.get_version()\n",
      "  File \"C:\\Users\\adhar\\anaconda3\\lib\\site-packages\\threadpoolctl.py\", line 646, in get_version\n",
      "    config = get_config().split()\n",
      "AttributeError: 'NoneType' object has no attribute 'split'\n",
      "\n",
      "  warnings.warn(\n",
      "C:\\Users\\adhar\\anaconda3\\lib\\site-packages\\sklearn\\model_selection\\_validation.py:776: UserWarning: Scoring failed. The score on this train-test partition for these parameters will be set to nan. Details: \n",
      "Traceback (most recent call last):\n",
      "  File \"C:\\Users\\adhar\\anaconda3\\lib\\site-packages\\sklearn\\model_selection\\_validation.py\", line 767, in _score\n",
      "    scores = scorer(estimator, X_test, y_test)\n",
      "  File \"C:\\Users\\adhar\\anaconda3\\lib\\site-packages\\sklearn\\metrics\\_scorer.py\", line 106, in __call__\n",
      "    score = scorer._score(cached_call, estimator, *args, **kwargs)\n",
      "  File \"C:\\Users\\adhar\\anaconda3\\lib\\site-packages\\sklearn\\metrics\\_scorer.py\", line 261, in _score\n",
      "    y_pred = method_caller(estimator, \"predict\", X)\n",
      "  File \"C:\\Users\\adhar\\anaconda3\\lib\\site-packages\\sklearn\\metrics\\_scorer.py\", line 71, in _cached_call\n",
      "    return getattr(estimator, method)(*args, **kwargs)\n",
      "  File \"C:\\Users\\adhar\\anaconda3\\lib\\site-packages\\sklearn\\neighbors\\_classification.py\", line 226, in predict\n",
      "    neigh_ind = self.kneighbors(X, return_distance=False)\n",
      "  File \"C:\\Users\\adhar\\anaconda3\\lib\\site-packages\\sklearn\\neighbors\\_base.py\", line 763, in kneighbors\n",
      "    results = PairwiseDistancesArgKmin.compute(\n",
      "  File \"sklearn\\metrics\\_pairwise_distances_reduction.pyx\", line 698, in sklearn.metrics._pairwise_distances_reduction.PairwiseDistancesArgKmin.compute\n",
      "  File \"C:\\Users\\adhar\\anaconda3\\lib\\site-packages\\sklearn\\utils\\fixes.py\", line 151, in threadpool_limits\n",
      "    return threadpoolctl.threadpool_limits(limits=limits, user_api=user_api)\n",
      "  File \"C:\\Users\\adhar\\anaconda3\\lib\\site-packages\\threadpoolctl.py\", line 171, in __init__\n",
      "    self._original_info = self._set_threadpool_limits()\n",
      "  File \"C:\\Users\\adhar\\anaconda3\\lib\\site-packages\\threadpoolctl.py\", line 268, in _set_threadpool_limits\n",
      "    modules = _ThreadpoolInfo(prefixes=self._prefixes,\n",
      "  File \"C:\\Users\\adhar\\anaconda3\\lib\\site-packages\\threadpoolctl.py\", line 340, in __init__\n",
      "    self._load_modules()\n",
      "  File \"C:\\Users\\adhar\\anaconda3\\lib\\site-packages\\threadpoolctl.py\", line 373, in _load_modules\n",
      "    self._find_modules_with_enum_process_module_ex()\n",
      "  File \"C:\\Users\\adhar\\anaconda3\\lib\\site-packages\\threadpoolctl.py\", line 485, in _find_modules_with_enum_process_module_ex\n",
      "    self._make_module_from_path(filepath)\n",
      "  File \"C:\\Users\\adhar\\anaconda3\\lib\\site-packages\\threadpoolctl.py\", line 515, in _make_module_from_path\n",
      "    module = module_class(filepath, prefix, user_api, internal_api)\n",
      "  File \"C:\\Users\\adhar\\anaconda3\\lib\\site-packages\\threadpoolctl.py\", line 606, in __init__\n",
      "    self.version = self.get_version()\n",
      "  File \"C:\\Users\\adhar\\anaconda3\\lib\\site-packages\\threadpoolctl.py\", line 646, in get_version\n",
      "    config = get_config().split()\n",
      "AttributeError: 'NoneType' object has no attribute 'split'\n",
      "\n",
      "  warnings.warn(\n"
     ]
    },
    {
     "name": "stdout",
     "output_type": "stream",
     "text": [
      "CART: 0.772367 (0.035186)\n",
      "NB: 0.762049 (0.073144)\n",
      "SVM: 0.830231 (0.043349)\n"
     ]
    }
   ],
   "source": [
    "\n",
    "\n",
    "results = []\n",
    "names = []\n",
    "# Stratified K-fold cross validation (cv for imbalanced dataset)\n",
    "from sklearn.model_selection import StratifiedKFold\n",
    "for name, model in models:\n",
    "    skfold = model_selection.KFold(n_splits=10)\n",
    "    cv_results = model_selection.cross_val_score(model, X_train, y_train, cv=kfold, scoring=scoring)\n",
    "    results.append(cv_results)\n",
    "    names.append(name)\n",
    "    \n",
    "    msg = \"%s: %f (%f)\" % (name, cv_results.mean(), cv_results.std())\n",
    "    print(msg)"
   ]
  },
  {
   "cell_type": "code",
   "execution_count": 51,
   "id": "399508a6",
   "metadata": {},
   "outputs": [],
   "source": [
    "# Building Logistic Regression, Decision Tree and SVM \n",
    "#To compare the accuarcy of the model and combining their accuracy to decide the threshold"
   ]
  },
  {
   "cell_type": "code",
   "execution_count": 52,
   "id": "99469859",
   "metadata": {},
   "outputs": [
    {
     "name": "stdout",
     "output_type": "stream",
     "text": [
      "Logistic train score roc-auc -0.7070852175697564\n",
      "Logistic train score roc-auc -0.673179945054945\n"
     ]
    },
    {
     "name": "stderr",
     "output_type": "stream",
     "text": [
      "C:\\Users\\adhar\\anaconda3\\lib\\site-packages\\sklearn\\linear_model\\_logistic.py:444: ConvergenceWarning: lbfgs failed to converge (status=1):\n",
      "STOP: TOTAL NO. of ITERATIONS REACHED LIMIT.\n",
      "\n",
      "Increase the number of iterations (max_iter) or scale the data as shown in:\n",
      "    https://scikit-learn.org/stable/modules/preprocessing.html\n",
      "Please also refer to the documentation for alternative solver options:\n",
      "    https://scikit-learn.org/stable/modules/linear_model.html#logistic-regression\n",
      "  n_iter_i = _check_optimize_result(\n"
     ]
    }
   ],
   "source": [
    "from sklearn.metrics import roc_curve\n",
    "from sklearn.metrics import roc_auc_score\n",
    "lr = LogisticRegression()\n",
    "lr.fit(X_train, y_train)\n",
    "y_train_pred = lr.predict_proba(X_train)\n",
    "# print(\"Accuracy : \", accuracy_score(y_test, predictions))\n",
    "print(\"Logistic train score roc-auc -{}\".format(roc_auc_score(y_train,y_train_pred[:,1])))\n",
    "y_test_pred = lr.predict_proba(X_test)\n",
    "print(\"Logistic train score roc-auc -{}\".format(roc_auc_score(y_test,y_test_pred[:,1])))\n"
   ]
  },
  {
   "cell_type": "code",
   "execution_count": 53,
   "id": "e92c44de",
   "metadata": {},
   "outputs": [
    {
     "name": "stdout",
     "output_type": "stream",
     "text": [
      "Logistic train score roc-auc -1.0\n",
      "Logistic train score roc-auc -0.7677197802197802\n"
     ]
    }
   ],
   "source": [
    "# Decision Tree\n",
    "from sklearn.ensemble import RandomForestClassifier\n",
    "rf =RandomForestClassifier()\n",
    "rf.fit(X_train, y_train)\n",
    "y_train_pred = rf.predict_proba(X_train)\n",
    "# print(\"Accuracy : \", accuracy_score(y_test, predictions))\n",
    "print(\"Logistic train score roc-auc -{}\".format(roc_auc_score(y_train,y_train_pred[:,1])))\n",
    "y_test_pred = rf.predict_proba(X_test)\n",
    "print(\"Logistic train score roc-auc -{}\".format(roc_auc_score(y_test,y_test_pred[:,1])))\n"
   ]
  },
  {
   "cell_type": "code",
   "execution_count": 54,
   "id": "e52f29a5",
   "metadata": {},
   "outputs": [
    {
     "name": "stdout",
     "output_type": "stream",
     "text": [
      "Logistic train score roc-auc -0.8427942157301065\n",
      "Logistic train score roc-auc -0.7868475274725275\n"
     ]
    }
   ],
   "source": [
    "from sklearn.discriminant_analysis import LinearDiscriminantAnalysis\n",
    "lda =LinearDiscriminantAnalysis()\n",
    "lda.fit(X_train, y_train)\n",
    "y_train_pred = lda.predict_proba(X_train)\n",
    "# print(\"Accuracy : \", accuracy_score(y_test, predictions))\n",
    "print(\"Logistic train score roc-auc -{}\".format(roc_auc_score(y_train,y_train_pred[:,1])))\n",
    "y_test_pred = lda.predict_proba(X_test)\n",
    "print(\"Logistic train score roc-auc -{}\".format(roc_auc_score(y_test,y_test_pred[:,1])))"
   ]
  },
  {
   "cell_type": "code",
   "execution_count": 55,
   "id": "d42447bf",
   "metadata": {},
   "outputs": [
    {
     "name": "stdout",
     "output_type": "stream",
     "text": [
      "RF ROC Score 1.0\n",
      "RF test roc-auc : 1.0\n"
     ]
    }
   ],
   "source": [
    "# Random forest\n",
    "from sklearn.ensemble import RandomForestClassifier\n",
    "rf_model=RandomForestClassifier()\n",
    "rf_model.fit(X_train,y_train)\n",
    "ytrain_pred=rf_model.predict_proba(X_train)\n",
    "print('RF ROC Score {}'.format(roc_auc_score(y_train,ytrain_pred[:,1])))\n",
    "ytest_pred=rf_model.predict_proba(X_test)\n",
    "print('RF test roc-auc : {}'.format(roc_auc_score(y_train,ytrain_pred[:,1])))"
   ]
  },
  {
   "cell_type": "code",
   "execution_count": 56,
   "id": "4c416cb8",
   "metadata": {},
   "outputs": [],
   "source": [
    "from sklearn.metrics import roc_curve\n",
    "from sklearn.metrics import roc_auc_score\n"
   ]
  },
  {
   "cell_type": "code",
   "execution_count": 57,
   "id": "8b04f0bd",
   "metadata": {},
   "outputs": [
    {
     "name": "stdout",
     "output_type": "stream",
     "text": [
      "Ensemble test roc-auc : 0.7935439560439559\n"
     ]
    }
   ],
   "source": [
    "pred=[]\n",
    "for model in [rf_model,lda,lr]:\n",
    "    pred.append(pd.Series(model.predict_proba(X_test)[:,1]))\n",
    "final_pred=pd.concat(pred,axis=1).mean(axis=1)\n",
    "print('Ensemble test roc-auc : {}'.format(roc_auc_score(y_test,final_pred)))"
   ]
  },
  {
   "cell_type": "code",
   "execution_count": 58,
   "id": "ed3340ce",
   "metadata": {},
   "outputs": [
    {
     "data": {
      "text/html": [
       "<div>\n",
       "<style scoped>\n",
       "    .dataframe tbody tr th:only-of-type {\n",
       "        vertical-align: middle;\n",
       "    }\n",
       "\n",
       "    .dataframe tbody tr th {\n",
       "        vertical-align: top;\n",
       "    }\n",
       "\n",
       "    .dataframe thead th {\n",
       "        text-align: right;\n",
       "    }\n",
       "</style>\n",
       "<table border=\"1\" class=\"dataframe\">\n",
       "  <thead>\n",
       "    <tr style=\"text-align: right;\">\n",
       "      <th></th>\n",
       "      <th>0</th>\n",
       "      <th>1</th>\n",
       "      <th>2</th>\n",
       "    </tr>\n",
       "  </thead>\n",
       "  <tbody>\n",
       "    <tr>\n",
       "      <th>0</th>\n",
       "      <td>0.13</td>\n",
       "      <td>0.059743</td>\n",
       "      <td>0.175263</td>\n",
       "    </tr>\n",
       "    <tr>\n",
       "      <th>1</th>\n",
       "      <td>0.09</td>\n",
       "      <td>0.007559</td>\n",
       "      <td>0.126177</td>\n",
       "    </tr>\n",
       "    <tr>\n",
       "      <th>2</th>\n",
       "      <td>0.48</td>\n",
       "      <td>0.660241</td>\n",
       "      <td>0.537856</td>\n",
       "    </tr>\n",
       "    <tr>\n",
       "      <th>3</th>\n",
       "      <td>0.10</td>\n",
       "      <td>0.014811</td>\n",
       "      <td>0.073277</td>\n",
       "    </tr>\n",
       "    <tr>\n",
       "      <th>4</th>\n",
       "      <td>0.07</td>\n",
       "      <td>0.020816</td>\n",
       "      <td>0.065586</td>\n",
       "    </tr>\n",
       "    <tr>\n",
       "      <th>...</th>\n",
       "      <td>...</td>\n",
       "      <td>...</td>\n",
       "      <td>...</td>\n",
       "    </tr>\n",
       "    <tr>\n",
       "      <th>481</th>\n",
       "      <td>0.36</td>\n",
       "      <td>0.571514</td>\n",
       "      <td>0.262028</td>\n",
       "    </tr>\n",
       "    <tr>\n",
       "      <th>482</th>\n",
       "      <td>0.06</td>\n",
       "      <td>0.020141</td>\n",
       "      <td>0.035043</td>\n",
       "    </tr>\n",
       "    <tr>\n",
       "      <th>483</th>\n",
       "      <td>0.21</td>\n",
       "      <td>0.276815</td>\n",
       "      <td>0.239475</td>\n",
       "    </tr>\n",
       "    <tr>\n",
       "      <th>484</th>\n",
       "      <td>0.10</td>\n",
       "      <td>0.011322</td>\n",
       "      <td>0.121359</td>\n",
       "    </tr>\n",
       "    <tr>\n",
       "      <th>485</th>\n",
       "      <td>0.11</td>\n",
       "      <td>0.004473</td>\n",
       "      <td>0.021963</td>\n",
       "    </tr>\n",
       "  </tbody>\n",
       "</table>\n",
       "<p>486 rows × 3 columns</p>\n",
       "</div>"
      ],
      "text/plain": [
       "        0         1         2\n",
       "0    0.13  0.059743  0.175263\n",
       "1    0.09  0.007559  0.126177\n",
       "2    0.48  0.660241  0.537856\n",
       "3    0.10  0.014811  0.073277\n",
       "4    0.07  0.020816  0.065586\n",
       "..    ...       ...       ...\n",
       "481  0.36  0.571514  0.262028\n",
       "482  0.06  0.020141  0.035043\n",
       "483  0.21  0.276815  0.239475\n",
       "484  0.10  0.011322  0.121359\n",
       "485  0.11  0.004473  0.021963\n",
       "\n",
       "[486 rows x 3 columns]"
      ]
     },
     "execution_count": 58,
     "metadata": {},
     "output_type": "execute_result"
    }
   ],
   "source": [
    "pd.concat(pred,axis=1)"
   ]
  },
  {
   "cell_type": "code",
   "execution_count": 60,
   "id": "53833411",
   "metadata": {},
   "outputs": [
    {
     "data": {
      "text/plain": [
       "array([1.62544664, 0.62544664, 0.55936568, 0.55080384, 0.46795462,\n",
       "       0.46785638, 0.43553778, 0.43511103, 0.42258658, 0.4201483 ,\n",
       "       0.40421051, 0.3978475 , 0.37015483, 0.36673336, 0.35945213,\n",
       "       0.35851189, 0.35598844, 0.35204843, 0.34444103, 0.34169301,\n",
       "       0.34121421, 0.33747137, 0.33544577, 0.32394498, 0.32193493,\n",
       "       0.31197294, 0.31082953, 0.31018116, 0.30924401, 0.27924355,\n",
       "       0.27464911, 0.27262277, 0.26985784, 0.25963822, 0.255585  ,\n",
       "       0.25431345, 0.25208209, 0.24994516, 0.24948964, 0.24209644,\n",
       "       0.24008705, 0.23428237, 0.23358641, 0.22335502, 0.22088015,\n",
       "       0.21297574, 0.21253649, 0.18030119, 0.17708394, 0.17492423,\n",
       "       0.17411272, 0.1734023 , 0.17101334, 0.17027465, 0.16967837,\n",
       "       0.16886361, 0.16880038, 0.16515607, 0.16500433, 0.16372426,\n",
       "       0.16308247, 0.16041076, 0.15984821, 0.15167945, 0.1514298 ,\n",
       "       0.14405662, 0.14388801, 0.13260865, 0.13256551, 0.12724061,\n",
       "       0.1271133 , 0.11833737, 0.11824856, 0.1055535 , 0.10522437,\n",
       "       0.09180799, 0.09166017, 0.08618028, 0.08552975, 0.0743081 ,\n",
       "       0.07408199, 0.07342346, 0.07297522, 0.06444494, 0.0643709 ,\n",
       "       0.06269588, 0.06252626, 0.0590788 , 0.05906019, 0.05341518,\n",
       "       0.05274705, 0.05028962, 0.04932344, 0.01043806])"
      ]
     },
     "execution_count": 60,
     "metadata": {},
     "output_type": "execute_result"
    }
   ],
   "source": [
    "fpr,tpr,thresholds=roc_curve(y_test,final_pred)\n",
    "thresholds"
   ]
  },
  {
   "cell_type": "code",
   "execution_count": 61,
   "id": "e322e082",
   "metadata": {},
   "outputs": [
    {
     "data": {
      "text/html": [
       "<div>\n",
       "<style scoped>\n",
       "    .dataframe tbody tr th:only-of-type {\n",
       "        vertical-align: middle;\n",
       "    }\n",
       "\n",
       "    .dataframe tbody tr th {\n",
       "        vertical-align: top;\n",
       "    }\n",
       "\n",
       "    .dataframe thead th {\n",
       "        text-align: right;\n",
       "    }\n",
       "</style>\n",
       "<table border=\"1\" class=\"dataframe\">\n",
       "  <thead>\n",
       "    <tr style=\"text-align: right;\">\n",
       "      <th></th>\n",
       "      <th>threshold</th>\n",
       "      <th>accuracy</th>\n",
       "    </tr>\n",
       "  </thead>\n",
       "  <tbody>\n",
       "    <tr>\n",
       "      <th>19</th>\n",
       "      <td>0.341693</td>\n",
       "      <td>0.886831</td>\n",
       "    </tr>\n",
       "    <tr>\n",
       "      <th>13</th>\n",
       "      <td>0.366733</td>\n",
       "      <td>0.884774</td>\n",
       "    </tr>\n",
       "    <tr>\n",
       "      <th>12</th>\n",
       "      <td>0.370155</td>\n",
       "      <td>0.884774</td>\n",
       "    </tr>\n",
       "    <tr>\n",
       "      <th>15</th>\n",
       "      <td>0.358512</td>\n",
       "      <td>0.884774</td>\n",
       "    </tr>\n",
       "    <tr>\n",
       "      <th>18</th>\n",
       "      <td>0.344441</td>\n",
       "      <td>0.884774</td>\n",
       "    </tr>\n",
       "  </tbody>\n",
       "</table>\n",
       "</div>"
      ],
      "text/plain": [
       "    threshold  accuracy\n",
       "19   0.341693  0.886831\n",
       "13   0.366733  0.884774\n",
       "12   0.370155  0.884774\n",
       "15   0.358512  0.884774\n",
       "18   0.344441  0.884774"
      ]
     },
     "execution_count": 61,
     "metadata": {},
     "output_type": "execute_result"
    }
   ],
   "source": [
    "from sklearn.metrics import accuracy_score\n",
    "accuracy_is=[]\n",
    "for i in thresholds:\n",
    "    y_pred=np.where(final_pred>i,1,0)\n",
    "    accuracy_is.append(accuracy_score(y_test,y_pred,normalize=True))\n",
    "accuracy_is=pd.concat([pd.Series(thresholds),pd.Series(accuracy_is)],axis=1)\n",
    "accuracy_is.columns=['threshold','accuracy']\n",
    "accuracy_is.sort_values(by='accuracy',ascending=False,inplace=True)\n",
    "accuracy_is.head()\n"
   ]
  }
 ],
 "metadata": {
  "kernelspec": {
   "display_name": "Python 3",
   "language": "python",
   "name": "python3"
  },
  "language_info": {
   "codemirror_mode": {
    "name": "ipython",
    "version": 3
   },
   "file_extension": ".py",
   "mimetype": "text/x-python",
   "name": "python",
   "nbconvert_exporter": "python",
   "pygments_lexer": "ipython3",
   "version": "3.8.5"
  }
 },
 "nbformat": 4,
 "nbformat_minor": 5
}
